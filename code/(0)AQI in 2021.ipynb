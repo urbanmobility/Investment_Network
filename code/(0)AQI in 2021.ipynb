{
 "cells": [
  {
   "cell_type": "markdown",
   "metadata": {},
   "source": [
    "# 27+4 cities"
   ]
  },
  {
   "cell_type": "code",
   "execution_count": 2,
   "metadata": {},
   "outputs": [],
   "source": [
    "import os\n",
    "import pandas as pd\n",
    "import re\n",
    "path = r\"../data/city_20210101-20211231/\"  \n",
    "FileNames = os.listdir(path)\n",
    "city=['北京','天津','上海','重庆','石家庄','太原','呼和浩特','沈阳','长春','哈尔滨','南京','杭州','合肥','福州','南昌','济南',\n",
    "      '郑州','武汉','长沙','广州','南宁','海口','成都','贵阳','昆明','拉萨','西安','兰州','西宁','银川','乌鲁木齐']\n",
    "label=['date','type']+city\n",
    "AQI=[]\n",
    "PM=[]\n",
    "for fn in FileNames:\n",
    "    if re.search(r'\\.csv$', fn):\n",
    "        fullfilename = os.path.join(path, fn)\n",
    "        df = pd.read_csv(fullfilename,encoding='utf-8')\n",
    "        df=df.loc[0:1,label].fillna(0)\n",
    "        aqi=df.loc[0,city].tolist()\n",
    "        pm=df.loc[1,city].tolist()\n",
    "#         print(fn) \n",
    "#         print(df) \n",
    "        AQI.append(aqi)\n",
    "        PM.append(pm)\n",
    "\n",
    "# print(AQI)"
   ]
  },
  {
   "cell_type": "code",
   "execution_count": 3,
   "metadata": {},
   "outputs": [
    {
     "data": {
      "text/plain": [
       "[63.74794520547945,\n",
       " 72.56593406593407,\n",
       " 46.26373626373626,\n",
       " 56.04931506849315,\n",
       " 83.61917808219178,\n",
       " 83.13186813186813,\n",
       " 65.65934065934066,\n",
       " 68.01095890410959,\n",
       " 62.90934065934066,\n",
       " 66.29395604395604,\n",
       " 54.892857142857146,\n",
       " 52.054794520547944,\n",
       " 63.43681318681319,\n",
       " 38.24657534246575,\n",
       " 56.942465753424656,\n",
       " 78.06301369863014,\n",
       " 81.61369863013698,\n",
       " 62.6986301369863,\n",
       " 68.9478021978022,\n",
       " 44.7967032967033,\n",
       " 47.51780821917808,\n",
       " 27.528767123287672,\n",
       " 61.084931506849315,\n",
       " 45.01923076923077,\n",
       " 46.07397260273972,\n",
       " 34.184065934065934,\n",
       " 81.06027397260274,\n",
       " 74.94794520547946,\n",
       " 61.83561643835616,\n",
       " 73.18082191780822,\n",
       " 80.17307692307692]"
      ]
     },
     "execution_count": 3,
     "metadata": {},
     "output_type": "execute_result"
    }
   ],
   "source": [
    "from numpy import *\n",
    "aqi=[]\n",
    "for i in range(len(city)):\n",
    "    cityaqi=[]\n",
    "    for j in range(len(AQI)):\n",
    "        if AQI[j][i]!=0:\n",
    "            cityaqi.append(AQI[j][i])\n",
    "    aqi.append(mean(cityaqi))\n",
    "aqi"
   ]
  },
  {
   "cell_type": "code",
   "execution_count": 4,
   "metadata": {},
   "outputs": [
    {
     "data": {
      "text/plain": [
       "[35.46849315068493,\n",
       " 42.65384615384615,\n",
       " 27.791208791208792,\n",
       " 37.97260273972603,\n",
       " 50.772602739726025,\n",
       " 49.5467032967033,\n",
       " 35.142857142857146,\n",
       " 43.441095890410956,\n",
       " 37.14835164835165,\n",
       " 42.870879120879124,\n",
       " 31.51923076923077,\n",
       " 30.28767123287671,\n",
       " 35.94230769230769,\n",
       " 20.90958904109589,\n",
       " 33.09315068493151,\n",
       " 44.895890410958906,\n",
       " 45.70958904109589,\n",
       " 39.85205479452055,\n",
       " 46.354395604395606,\n",
       " 25.071428571428573,\n",
       " 30.019178082191782,\n",
       " 14.452054794520548,\n",
       " 41.14246575342466,\n",
       " 27.208791208791208,\n",
       " 28.243835616438357,\n",
       " 12.942307692307692,\n",
       " 46.221917808219175,\n",
       " 39.83835616438356,\n",
       " 35.345205479452055,\n",
       " 33.47397260273973,\n",
       " 43.70879120879121]"
      ]
     },
     "execution_count": 4,
     "metadata": {},
     "output_type": "execute_result"
    }
   ],
   "source": [
    "pm=[]\n",
    "for i in range(len(city)):\n",
    "    citypm=[]\n",
    "    for j in range(len(PM)):\n",
    "        if PM[j][i]!=0:\n",
    "            citypm.append(PM[j][i])\n",
    "    pm.append(mean(citypm))\n",
    "pm"
   ]
  }
 ],
 "metadata": {
  "kernelspec": {
   "display_name": "Python 3 (ipykernel)",
   "language": "python",
   "name": "python3"
  },
  "language_info": {
   "codemirror_mode": {
    "name": "ipython",
    "version": 3
   },
   "file_extension": ".py",
   "mimetype": "text/x-python",
   "name": "python",
   "nbconvert_exporter": "python",
   "pygments_lexer": "ipython3",
   "version": "3.8.17"
  }
 },
 "nbformat": 4,
 "nbformat_minor": 4
}
