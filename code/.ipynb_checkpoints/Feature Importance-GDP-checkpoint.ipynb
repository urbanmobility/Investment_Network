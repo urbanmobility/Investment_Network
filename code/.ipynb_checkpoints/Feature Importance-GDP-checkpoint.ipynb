{
 "cells": [
  {
   "cell_type": "code",
   "execution_count": null,
   "metadata": {
    "colab": {
     "base_uri": "https://localhost:8080/"
    },
    "id": "j7ANzb4oYffn",
    "outputId": "a3ab9bc6-221d-47fa-e4e4-f966f23da021"
   },
   "outputs": [
    {
     "name": "stdout",
     "output_type": "stream",
     "text": [
      "E: Package 'python-software-properties' has no installation candidate\n"
     ]
    }
   ],
   "source": [
    "!apt-get install -y -qq software-properties-common python-software-properties module-init-tools\n",
    "!add-apt-repository -y ppa:alessandro-strada/ppa 2>&1 > /dev/null\n",
    "!apt-get update -qq 2>&1 > /dev/null\n",
    "!apt-get -y install -qq google-drive-ocamlfuse fuse\n",
    "from google.colab import auth\n",
    "auth.authenticate_user()\n",
    "from oauth2client.client import GoogleCredentials\n",
    "creds = GoogleCredentials.get_application_default()\n",
    "import getpass\n",
    "!google-drive-ocamlfuse -headless -id={creds.client_id} -secret={creds.client_secret} < /dev/null 2>&1 | grep URL\n",
    "vcode = getpass.getpass()\n",
    "!echo {vcode} | google-drive-ocamlfuse -headless -id={creds.client_id} -secret={creds.client_secret}"
   ]
  },
  {
   "cell_type": "code",
   "execution_count": 6,
   "metadata": {
    "executionInfo": {
     "elapsed": 340,
     "status": "ok",
     "timestamp": 1621859999553,
     "user": {
      "displayName": "王家乐",
      "photoUrl": "",
      "userId": "16213060543179077054"
     },
     "user_tz": -480
    },
    "id": "uWRACNLBY5Tb"
   },
   "outputs": [],
   "source": [
    "!mkdir -p drive\n",
    "!google-drive-ocamlfuse drive # 此时colab中出现drive的文件夹，里面就是你的google drive的根目录文件"
   ]
  },
  {
   "cell_type": "code",
   "execution_count": 10,
   "metadata": {
    "colab": {
     "base_uri": "https://localhost:8080/",
     "height": 219
    },
    "executionInfo": {
     "elapsed": 1092,
     "status": "error",
     "timestamp": 1621860431494,
     "user": {
      "displayName": "王家乐",
      "photoUrl": "",
      "userId": "16213060543179077054"
     },
     "user_tz": -480
    },
    "id": "GDYtHlsTZFHm",
    "outputId": "2436ee91-ee97-468b-e663-71ca694752ff"
   },
   "outputs": [
    {
     "ename": "FileNotFoundError",
     "evalue": "ignored",
     "output_type": "error",
     "traceback": [
      "\u001b[0;31m---------------------------------------------------------------------------\u001b[0m",
      "\u001b[0;31mFileNotFoundError\u001b[0m                         Traceback (most recent call last)",
      "\u001b[0;32m<ipython-input-10-4aacde1966b7>\u001b[0m in \u001b[0;36m<module>\u001b[0;34m()\u001b[0m\n\u001b[1;32m      1\u001b[0m \u001b[0;32mimport\u001b[0m \u001b[0mos\u001b[0m\u001b[0;34m\u001b[0m\u001b[0;34m\u001b[0m\u001b[0m\n\u001b[0;32m----> 2\u001b[0;31m \u001b[0mos\u001b[0m\u001b[0;34m.\u001b[0m\u001b[0mchdir\u001b[0m\u001b[0;34m(\u001b[0m\u001b[0;34m\"my drive/Colab Notebooks\"\u001b[0m\u001b[0;34m)\u001b[0m\u001b[0;34m\u001b[0m\u001b[0;34m\u001b[0m\u001b[0m\n\u001b[0m\u001b[1;32m      3\u001b[0m \u001b[0;32mimport\u001b[0m \u001b[0msklearn\u001b[0m\u001b[0;34m\u001b[0m\u001b[0;34m\u001b[0m\u001b[0m\n\u001b[1;32m      4\u001b[0m \u001b[0;32mimport\u001b[0m \u001b[0mnumpy\u001b[0m \u001b[0;32mas\u001b[0m \u001b[0mnp\u001b[0m\u001b[0;34m\u001b[0m\u001b[0;34m\u001b[0m\u001b[0m\n",
      "\u001b[0;31mFileNotFoundError\u001b[0m: [Errno 2] No such file or directory: 'my drive/Colab Notebooks'"
     ]
    }
   ],
   "source": [
    "import os\n",
    "os.chdir(\"drive/Colab Notebooks\") "
   ]
  },
  {
   "cell_type": "code",
   "execution_count": 1,
   "metadata": {
    "executionInfo": {
     "elapsed": 652,
     "status": "ok",
     "timestamp": 1621860648314,
     "user": {
      "displayName": "王家乐",
      "photoUrl": "",
      "userId": "16213060543179077054"
     },
     "user_tz": -480
    },
    "id": "aXCQuLeHXTN9"
   },
   "outputs": [],
   "source": [
    "import sklearn\n",
    "import numpy as np"
   ]
  },
  {
   "cell_type": "code",
   "execution_count": 2,
   "metadata": {
    "colab": {
     "base_uri": "https://localhost:8080/"
    },
    "executionInfo": {
     "elapsed": 249,
     "status": "ok",
     "timestamp": 1621860654607,
     "user": {
      "displayName": "王家乐",
      "photoUrl": "",
      "userId": "16213060543179077054"
     },
     "user_tz": -480
    },
    "id": "t9BwpWnXXU2T",
    "outputId": "2d80abfe-d144-430e-8f9d-d0aa93afd239"
   },
   "outputs": [
    {
     "name": "stdout",
     "output_type": "stream",
     "text": [
      "(1000, 10) (1000,)\n"
     ]
    }
   ],
   "source": [
    "# test regression dataset\n",
    "from sklearn.datasets import make_regression\n",
    "# define dataset\n",
    "X, y = make_regression(n_samples=1000, n_features=10, n_informative=5, random_state=1)\n",
    "# summarize the dataset\n",
    "print(X.shape, y.shape)"
   ]
  },
  {
   "cell_type": "markdown",
   "metadata": {
    "id": "V__psC_NX4nf"
   },
   "source": [
    "30GDP大市与GDP的特征重要性检测"
   ]
  },
  {
   "cell_type": "code",
   "execution_count": 4,
   "metadata": {
    "executionInfo": {
     "elapsed": 261,
     "status": "ok",
     "timestamp": 1621860782414,
     "user": {
      "displayName": "王家乐",
      "photoUrl": "",
      "userId": "16213060543179077054"
     },
     "user_tz": -480
    },
    "id": "o8Oz4BPEX0SK"
   },
   "outputs": [],
   "source": [
    "y = np.array([38701, 36103, 26360, 25019, 25003, 20171, 17717, 16106, 15623,\n",
    "       14818, 14084, 12409, 12370, 12003, 11720, 11653, 10816, 10159,\n",
    "       10141, 10046, 10036, 10020, 10020,  9650,  7816,  7805,  7320,\n",
    "        7211,  7030,  6734])"
   ]
  },
  {
   "cell_type": "code",
   "execution_count": 18,
   "metadata": {
    "executionInfo": {
     "elapsed": 262,
     "status": "ok",
     "timestamp": 1621863515411,
     "user": {
      "displayName": "王家乐",
      "photoUrl": "",
      "userId": "16213060543179077054"
     },
     "user_tz": -480
    },
    "id": "QqhF6xo2X1Z2"
   },
   "outputs": [],
   "source": [
    "X1 = np.array([[2.7800e+02, 2.2000e+01, 3.4460e+03, 1.1400e+02, 1.3520e+03,\n",
    "        7.8980e+03, 9.1500e+02, 2.6200e+02, 1.4450e+03, 1.2640e+03,\n",
    "        3.0710e+03, 1.4477e+04, 3.6130e+03, 1.8200e+02, 2.0200e+02,\n",
    "        2.9000e+01, 2.7000e+01, 2.3900e+02],\n",
    "       [2.8600e+02, 9.5000e+01, 2.3160e+03, 4.0800e+02, 1.0930e+03,\n",
    "        4.1490e+03, 4.1500e+02, 1.7900e+02, 1.3230e+03, 1.1350e+03,\n",
    "        1.6700e+03, 1.6806e+04, 7.8160e+03, 1.3100e+02, 1.5300e+02,\n",
    "        2.7000e+01, 2.9000e+01, 6.0500e+02],\n",
    "       [1.2000e+02, 1.4000e+01, 2.2570e+03, 1.0700e+02, 5.2100e+02,\n",
    "        8.3510e+03, 6.0100e+02, 2.6000e+02, 2.2640e+03, 1.9330e+03,\n",
    "        2.7080e+03, 1.0380e+04, 1.2550e+03, 1.1700e+02, 7.3900e+02,\n",
    "        7.3000e+01, 9.0000e+00, 1.7200e+02],\n",
    "       [1.3900e+02, 1.8000e+01, 8.4700e+02, 8.2000e+01, 4.2700e+02,\n",
    "        2.0420e+03, 3.0600e+02, 8.5000e+01, 6.8400e+02, 2.7900e+02,\n",
    "        1.1390e+03, 5.0380e+03, 1.3080e+03, 2.1000e+01, 8.6000e+01,\n",
    "        2.3000e+01, 1.8000e+01, 2.0200e+02],\n",
    "       [2.3600e+02, 2.5000e+01, 6.5300e+02, 7.3000e+01, 2.8600e+02,\n",
    "        1.2680e+03, 1.4500e+02, 6.0000e+01, 5.2000e+02, 7.2600e+02,\n",
    "        5.1800e+02, 1.3070e+03, 3.3000e+02, 7.2000e+01, 5.4000e+01,\n",
    "        1.1000e+01, 1.1000e+01, 5.4000e+01],\n",
    "       [1.0600e+02, 2.0000e+00, 8.2500e+02, 3.4000e+01, 2.9600e+02,\n",
    "        6.5300e+02, 9.1000e+01, 3.2000e+01, 2.0300e+02, 1.3100e+02,\n",
    "        2.6000e+02, 1.8190e+03, 4.5200e+02, 3.7000e+01, 6.3000e+01,\n",
    "        2.0000e+00, 6.0000e+00, 3.9000e+01],\n",
    "       [2.4800e+02, 1.5000e+01, 6.4900e+02, 1.6800e+02, 6.5100e+02,\n",
    "        1.6800e+03, 1.8500e+02, 7.3000e+01, 6.5500e+02, 1.5500e+02,\n",
    "        7.8100e+02, 3.2110e+03, 9.8200e+02, 3.5000e+01, 1.4900e+02,\n",
    "        5.0000e+00, 2.1000e+01, 8.9000e+01],\n",
    "       [1.3800e+02, 8.0000e+00, 1.1660e+03, 3.7000e+01, 3.6800e+02,\n",
    "        1.9110e+03, 1.3400e+02, 9.8000e+01, 1.2180e+03, 5.1700e+02,\n",
    "        8.8900e+02, 5.7390e+03, 1.1300e+03, 4.4000e+01, 2.0300e+02,\n",
    "        1.2000e+01, 2.3000e+01, 9.8000e+01],\n",
    "       [1.0300e+02, 5.0000e+00, 3.9300e+02, 4.2000e+01, 2.7400e+02,\n",
    "        7.1800e+02, 1.0300e+02, 2.4000e+01, 1.9900e+02, 1.8100e+02,\n",
    "        3.4800e+02, 1.3980e+03, 5.7100e+02, 2.0000e+01, 2.5000e+01,\n",
    "        2.0000e+00, 4.0000e+00, 4.9000e+01],\n",
    "       [6.3000e+01, 2.0000e+01, 7.2000e+02, 6.8000e+01, 3.8000e+02,\n",
    "        1.2050e+03, 1.4400e+02, 5.4000e+01, 5.0700e+02, 1.4400e+02,\n",
    "        4.1300e+02, 2.3560e+03, 7.9100e+02, 5.7000e+01, 9.8000e+01,\n",
    "        9.0000e+00, 1.5000e+01, 1.3400e+02],\n",
    "       [3.2000e+01, 2.0000e+01, 6.6900e+02, 6.2000e+01, 1.4300e+02,\n",
    "        7.1100e+02, 1.3900e+02, 1.7000e+01, 7.6000e+01, 4.4100e+02,\n",
    "        2.1600e+02, 5.6000e+02, 4.3300e+02, 7.0000e+00, 2.0000e+01,\n",
    "        4.0000e+00, 3.0000e+00, 4.4000e+01],\n",
    "       [5.9000e+01, 1.0000e+00, 1.1230e+03, 4.2000e+01, 1.6900e+02,\n",
    "        9.5500e+02, 1.8500e+02, 2.6000e+01, 2.2000e+02, 6.7000e+01,\n",
    "        3.8700e+02, 2.7150e+03, 2.9500e+02, 2.0000e+01, 2.3000e+01,\n",
    "        1.0000e+00, 6.0000e+00, 3.5000e+01],\n",
    "       [3.2000e+01, 1.0000e+00, 5.2000e+02, 1.8000e+01, 1.1900e+02,\n",
    "        3.6800e+02, 5.5000e+01, 1.5000e+01, 9.1000e+01, 5.6000e+01,\n",
    "        1.3500e+02, 8.5900e+02, 3.7400e+02, 1.9000e+01, 2.1000e+01,\n",
    "        1.0000e+00, 5.0000e+00, 3.6000e+01],\n",
    "       [9.7000e+01, 2.7000e+01, 3.3500e+02, 1.1700e+02, 3.1000e+02,\n",
    "        1.1290e+03, 8.6000e+01, 3.9000e+01, 2.2600e+02, 2.1000e+02,\n",
    "        7.1500e+02, 1.8030e+03, 4.0600e+02, 3.4000e+01, 5.2000e+01,\n",
    "        1.0000e+00, 4.0000e+00, 3.3000e+01],\n",
    "       [1.2700e+02, 7.0000e+00, 4.7100e+02, 3.5000e+01, 2.1600e+02,\n",
    "        7.5800e+02, 9.3000e+01, 3.4000e+01, 2.6900e+02, 3.9600e+02,\n",
    "        3.2700e+02, 1.4100e+03, 4.6000e+02, 2.3000e+01, 3.2000e+01,\n",
    "        8.0000e+00, 2.9000e+01, 8.9000e+01],\n",
    "       [8.8000e+01, 5.0000e+00, 7.6700e+02, 3.7000e+01, 2.7400e+02,\n",
    "        1.0400e+03, 1.7300e+02, 3.7000e+01, 2.5200e+02, 7.7000e+02,\n",
    "        4.5000e+02, 1.1560e+03, 3.2700e+02, 3.3000e+01, 4.6000e+01,\n",
    "        1.5000e+01, 9.0000e+00, 4.7000e+01],\n",
    "       [3.4000e+01, 0.0000e+00, 5.5500e+02, 2.9000e+01, 1.1800e+02,\n",
    "        7.0200e+02, 5.8000e+01, 2.4000e+01, 7.6000e+01, 1.3600e+02,\n",
    "        4.4000e+02, 1.1620e+03, 1.8500e+02, 3.0000e+01, 3.2000e+01,\n",
    "        5.0000e+00, 4.0000e+00, 1.6000e+01],\n",
    "       [2.1000e+01, 1.0000e+00, 5.4700e+02, 2.0000e+01, 7.1000e+01,\n",
    "        3.1900e+02, 3.6000e+01, 1.6000e+01, 3.9000e+01, 2.4000e+01,\n",
    "        1.7700e+02, 4.9100e+02, 4.2000e+01, 1.2000e+01, 7.0000e+00,\n",
    "        1.0000e+00, 2.0000e+00, 1.3000e+01],\n",
    "       [7.7000e+01, 1.1000e+01, 5.8200e+02, 9.8000e+01, 2.7300e+02,\n",
    "        1.1420e+03, 1.2200e+02, 5.3000e+01, 3.4700e+02, 2.0300e+02,\n",
    "        4.4100e+02, 1.7450e+03, 4.2700e+02, 2.9000e+01, 5.8000e+01,\n",
    "        3.0000e+00, 9.0000e+00, 4.1000e+01],\n",
    "       [1.0300e+02, 1.0000e+01, 2.9400e+02, 3.1000e+01, 1.9300e+02,\n",
    "        5.5200e+02, 4.7000e+01, 2.6000e+01, 1.8400e+02, 2.1900e+02,\n",
    "        2.5600e+02, 1.0560e+03, 2.3600e+02, 2.8000e+01, 4.5000e+01,\n",
    "        1.3000e+01, 2.0000e+00, 2.2000e+01],\n",
    "       [2.0000e+01, 0.0000e+00, 2.9600e+02, 1.2000e+01, 2.1300e+02,\n",
    "        2.1700e+02, 1.9000e+01, 5.0000e+00, 2.6000e+01, 2.1000e+01,\n",
    "        1.0200e+02, 3.6900e+02, 9.7000e+01, 1.7000e+01, 3.6000e+01,\n",
    "        0.0000e+00, 6.0000e+00, 9.0000e+00],\n",
    "       [5.2000e+01, 1.2000e+01, 2.7600e+02, 4.4000e+01, 3.1100e+02,\n",
    "        9.1700e+02, 6.7000e+01, 2.5000e+01, 2.8000e+02, 1.7400e+02,\n",
    "        4.6100e+02, 1.2140e+03, 2.8800e+02, 3.1000e+01, 9.5000e+01,\n",
    "        3.0000e+00, 9.0000e+00, 1.9000e+01],\n",
    "       [9.2000e+01, 1.0000e+00, 2.7200e+02, 4.8000e+01, 1.5500e+02,\n",
    "        5.6800e+02, 9.2000e+01, 2.6000e+01, 1.9200e+02, 3.9000e+01,\n",
    "        2.7900e+02, 1.1800e+03, 1.3600e+02, 1.6000e+01, 1.4000e+01,\n",
    "        1.0000e+00, 6.0000e+00, 2.9000e+01],\n",
    "       [1.3000e+01, 4.0000e+00, 5.0400e+02, 1.8000e+01, 9.7000e+01,\n",
    "        6.5100e+02, 7.5000e+01, 2.6000e+01, 8.2000e+01, 9.9000e+01,\n",
    "        4.3900e+02, 1.8350e+03, 1.9400e+02, 1.9000e+01, 3.1000e+01,\n",
    "        1.0000e+00, 1.0000e+00, 1.3000e+01],\n",
    "       [1.4300e+02, 5.6000e+01, 4.9500e+02, 2.4000e+01, 1.2100e+02,\n",
    "        5.3200e+02, 1.0800e+02, 1.8000e+01, 3.8000e+01, 5.3000e+01,\n",
    "        1.3800e+02, 5.6100e+02, 1.3400e+02, 1.5000e+01, 2.7000e+01,\n",
    "        1.0000e+00, 4.0000e+00, 1.2000e+01],\n",
    "       [1.8000e+01, 3.0000e+00, 2.8700e+02, 5.0000e+00, 6.8000e+01,\n",
    "        1.9000e+02, 2.0000e+01, 5.0000e+00, 3.2000e+01, 2.9000e+01,\n",
    "        1.1300e+02, 4.3900e+02, 1.6000e+02, 1.0000e+01, 1.6000e+01,\n",
    "        2.0000e+00, 1.0000e+00, 1.4000e+01],\n",
    "       [4.1000e+01, 2.2000e+01, 1.7000e+02, 1.2000e+01, 8.5000e+01,\n",
    "        1.6700e+02, 2.4000e+01, 1.0000e+00, 1.8000e+01, 1.7000e+01,\n",
    "        7.3000e+01, 1.8900e+02, 7.3000e+01, 6.0000e+00, 2.5000e+01,\n",
    "        0.0000e+00, 3.0000e+00, 6.0000e+00],\n",
    "       [2.4400e+02, 1.4000e+01, 1.2000e+02, 1.3000e+01, 2.3000e+01,\n",
    "        2.4800e+02, 1.7000e+01, 1.0000e+00, 1.5000e+01, 5.4000e+01,\n",
    "        2.2000e+01, 7.8000e+01, 2.3000e+01, 1.1000e+01, 5.0000e+00,\n",
    "        2.0000e+00, 3.0000e+00, 3.0000e+00],\n",
    "       [9.2000e+01, 1.0000e+01, 4.7600e+02, 6.5000e+01, 1.8800e+02,\n",
    "        8.6100e+02, 1.9700e+02, 3.8000e+01, 1.5400e+02, 6.5000e+01,\n",
    "        3.6300e+02, 1.1460e+03, 2.2200e+02, 2.5000e+01, 2.3000e+01,\n",
    "        2.0000e+00, 1.1000e+01, 2.4000e+01],\n",
    "       [1.0000e+02, 2.2000e+01, 2.6700e+02, 4.6000e+01, 1.8900e+02,\n",
    "        7.8700e+02, 7.7000e+01, 4.0000e+01, 1.8800e+02, 8.9000e+01,\n",
    "        2.7800e+02, 1.0970e+03, 2.9100e+02, 2.6000e+01, 4.5000e+01,\n",
    "        8.0000e+00, 3.0000e+00, 2.2000e+01]])"
   ]
  },
  {
   "cell_type": "code",
   "execution_count": 19,
   "metadata": {
    "colab": {
     "base_uri": "https://localhost:8080/"
    },
    "executionInfo": {
     "elapsed": 784,
     "status": "ok",
     "timestamp": 1621863521588,
     "user": {
      "displayName": "王家乐",
      "photoUrl": "",
      "userId": "16213060543179077054"
     },
     "user_tz": -480
    },
    "id": "Qv8DADIqjKih",
    "outputId": "15d7708a-5bdb-4cd5-817a-73c940ec9cc2"
   },
   "outputs": [
    {
     "name": "stdout",
     "output_type": "stream",
     "text": [
      "(30, 18) (30,)\n"
     ]
    }
   ],
   "source": [
    "print(X1.shape, y.shape)"
   ]
  },
  {
   "cell_type": "code",
   "execution_count": 34,
   "metadata": {
    "colab": {
     "base_uri": "https://localhost:8080/",
     "height": 571
    },
    "executionInfo": {
     "elapsed": 874,
     "status": "ok",
     "timestamp": 1621864125350,
     "user": {
      "displayName": "王家乐",
      "photoUrl": "",
      "userId": "16213060543179077054"
     },
     "user_tz": -480
    },
    "id": "b85nSai6jMlA",
    "outputId": "42018e31-10a5-47d1-f53d-3eca41540e21"
   },
   "outputs": [
    {
     "name": "stdout",
     "output_type": "stream",
     "text": [
      "Feature: 0, Score: 0.03437\n",
      "Feature: 1, Score: 0.01343\n",
      "Feature: 2, Score: 0.04201\n",
      "Feature: 3, Score: 0.02095\n",
      "Feature: 4, Score: 0.03896\n",
      "Feature: 5, Score: 0.07629\n",
      "Feature: 6, Score: 0.02931\n",
      "Feature: 7, Score: 0.06226\n",
      "Feature: 8, Score: 0.06919\n",
      "Feature: 9, Score: 0.04766\n",
      "Feature: 10, Score: 0.01000\n",
      "Feature: 11, Score: 0.02704\n",
      "Feature: 12, Score: 0.10896\n",
      "Feature: 13, Score: 0.22208\n",
      "Feature: 14, Score: 0.02157\n",
      "Feature: 15, Score: 0.06780\n",
      "Feature: 16, Score: 0.01478\n",
      "Feature: 17, Score: 0.09334\n"
     ]
    },
    {
     "data": {
      "image/png": "[encoded data removed]",
      "text/plain": [
       "<Figure size 432x288 with 1 Axes>"
      ]
     },
     "metadata": {
      "needs_background": "light",
      "tags": []
     },
     "output_type": "display_data"
    }
   ],
   "source": [
    "# random forest for feature importance on a regression problem\n",
    "from sklearn.datasets import make_regression\n",
    "from sklearn.ensemble import RandomForestRegressor\n",
    "from matplotlib import pyplot\n",
    "# define the model\n",
    "model = RandomForestRegressor()\n",
    "# fit the model\n",
    "model.fit(X1, y)\n",
    "# get importance\n",
    "importance = model.feature_importances_\n",
    "# summarize feature importance\n",
    "for i,v in enumerate(importance):\n",
    "\tprint('Feature: %0d, Score: %.5f' % (i,v))\n",
    "# plot feature importance\n",
    "pyplot.bar([x for x in range(len(importance))], importance, color='royalblue',width=0.7)\n",
    "pyplot.show()"
   ]
  },
  {
   "cell_type": "code",
   "execution_count": 9,
   "metadata": {
    "colab": {
     "base_uri": "https://localhost:8080/"
    },
    "executionInfo": {
     "elapsed": 275,
     "status": "ok",
     "timestamp": 1621862762445,
     "user": {
      "displayName": "王家乐",
      "photoUrl": "",
      "userId": "16213060543179077054"
     },
     "user_tz": -480
    },
    "id": "1KRIx30ojXAd",
    "outputId": "506dc2b8-8c0f-427d-a1e7-bfd2c4544c07"
   },
   "outputs": [
    {
     "data": {
      "text/plain": [
       "(20,)"
      ]
     },
     "execution_count": 9,
     "metadata": {
      "tags": []
     },
     "output_type": "execute_result"
    }
   ],
   "source": [
    "importance.shape"
   ]
  },
  {
   "cell_type": "markdown",
   "metadata": {
    "id": "P1bmo6AclnwY"
   },
   "source": [
    "GDP与被投资"
   ]
  },
  {
   "cell_type": "code",
   "execution_count": 21,
   "metadata": {
    "executionInfo": {
     "elapsed": 262,
     "status": "ok",
     "timestamp": 1621863539169,
     "user": {
      "displayName": "王家乐",
      "photoUrl": "",
      "userId": "16213060543179077054"
     },
     "user_tz": -480
    },
    "id": "wv3j1M3MlrXg"
   },
   "outputs": [],
   "source": [
    "X2 = np.array([[2.550e+02, 2.400e+01, 3.191e+03, 7.400e+01, 1.245e+03, 6.606e+03,\n",
    "        9.090e+02, 2.830e+02, 1.645e+03, 1.034e+03, 2.891e+03, 9.431e+03,\n",
    "        3.817e+03, 2.510e+02, 2.610e+02, 2.400e+01, 5.600e+01, 2.390e+02],\n",
    "       [1.780e+02, 5.700e+01, 1.594e+03, 1.900e+02, 7.420e+02, 2.975e+03,\n",
    "        3.030e+02, 2.480e+02, 1.273e+03, 9.140e+02, 1.400e+03, 7.511e+03,\n",
    "        6.779e+03, 1.700e+02, 1.420e+02, 2.700e+01, 6.100e+01, 5.720e+02],\n",
    "       [1.200e+02, 1.000e+01, 2.278e+03, 7.700e+01, 5.680e+02, 6.559e+03,\n",
    "        5.290e+02, 3.520e+02, 2.163e+03, 1.888e+03, 1.953e+03, 6.502e+03,\n",
    "        1.257e+03, 1.130e+02, 6.990e+02, 5.400e+01, 2.200e+01, 2.530e+02],\n",
    "       [1.270e+02, 1.100e+01, 8.090e+02, 6.300e+01, 3.010e+02, 1.517e+03,\n",
    "        2.350e+02, 1.670e+02, 7.620e+02, 2.970e+02, 1.055e+03, 2.985e+03,\n",
    "        1.401e+03, 3.000e+01, 4.400e+01, 1.800e+01, 3.000e+01, 1.920e+02],\n",
    "       [2.110e+02, 2.600e+01, 7.110e+02, 1.050e+02, 2.520e+02, 1.081e+03,\n",
    "        1.680e+02, 5.500e+01, 5.030e+02, 4.770e+02, 5.170e+02, 1.197e+03,\n",
    "        3.310e+02, 9.000e+01, 6.800e+01, 2.500e+01, 2.600e+01, 9.200e+01],\n",
    "       [5.300e+01, 0.000e+00, 6.770e+02, 4.000e+01, 2.600e+02, 4.710e+02,\n",
    "        9.900e+01, 2.700e+01, 2.120e+02, 1.410e+02, 3.080e+02, 1.089e+03,\n",
    "        4.940e+02, 4.200e+01, 4.100e+01, 5.000e+00, 8.000e+00, 4.700e+01],\n",
    "       [2.210e+02, 2.200e+01, 7.250e+02, 1.160e+02, 3.890e+02, 1.158e+03,\n",
    "        1.620e+02, 6.500e+01, 7.120e+02, 1.910e+02, 7.610e+02, 2.349e+03,\n",
    "        1.000e+03, 3.700e+01, 1.060e+02, 8.000e+00, 3.900e+01, 8.800e+01],\n",
    "       [1.600e+02, 5.000e+00, 1.026e+03, 7.000e+01, 2.610e+02, 1.365e+03,\n",
    "        1.250e+02, 1.360e+02, 1.476e+03, 7.020e+02, 6.900e+02, 3.739e+03,\n",
    "        1.345e+03, 6.100e+01, 2.280e+02, 1.700e+01, 3.900e+01, 1.350e+02],\n",
    "       [1.310e+02, 5.000e+00, 3.640e+02, 4.900e+01, 1.770e+02, 4.340e+02,\n",
    "        1.180e+02, 1.900e+01, 2.110e+02, 1.380e+02, 3.380e+02, 9.530e+02,\n",
    "        5.680e+02, 2.000e+01, 1.200e+01, 0.000e+00, 8.000e+00, 5.300e+01],\n",
    "       [5.700e+01, 5.000e+00, 6.050e+02, 5.200e+01, 2.920e+02, 8.580e+02,\n",
    "        1.480e+02, 7.100e+01, 4.530e+02, 1.360e+02, 4.040e+02, 1.384e+03,\n",
    "        8.520e+02, 3.700e+01, 9.700e+01, 7.000e+00, 2.700e+01, 1.460e+02],\n",
    "       [2.500e+01, 1.300e+01, 5.000e+02, 3.000e+01, 1.020e+02, 4.090e+02,\n",
    "        8.400e+01, 2.100e+01, 3.100e+01, 1.960e+02, 1.580e+02, 2.020e+02,\n",
    "        3.120e+02, 9.000e+00, 2.100e+01, 1.000e+00, 2.000e+00, 1.700e+01],\n",
    "       [6.200e+01, 2.000e+00, 9.040e+02, 6.000e+01, 1.790e+02, 8.510e+02,\n",
    "        1.880e+02, 2.900e+01, 2.630e+02, 2.770e+02, 4.520e+02, 2.048e+03,\n",
    "        4.290e+02, 2.100e+01, 4.400e+01, 9.000e+00, 1.100e+01, 6.100e+01],\n",
    "       [3.900e+01, 2.000e+00, 4.470e+02, 2.000e+01, 9.800e+01, 2.230e+02,\n",
    "        5.700e+01, 2.200e+01, 1.030e+02, 4.900e+01, 1.400e+02, 4.470e+02,\n",
    "        3.500e+02, 3.100e+01, 1.600e+01, 2.000e+00, 7.000e+00, 3.800e+01],\n",
    "       [1.000e+02, 3.500e+01, 3.260e+02, 1.000e+02, 2.640e+02, 8.440e+02,\n",
    "        9.900e+01, 3.600e+01, 2.740e+02, 1.410e+02, 6.500e+02, 1.318e+03,\n",
    "        4.340e+02, 3.300e+01, 5.500e+01, 3.000e+00, 9.000e+00, 3.200e+01],\n",
    "       [9.800e+01, 1.000e+01, 5.360e+02, 6.500e+01, 1.430e+02, 5.930e+02,\n",
    "        8.100e+01, 4.700e+01, 2.900e+02, 5.440e+02, 3.430e+02, 9.100e+02,\n",
    "        5.620e+02, 3.000e+01, 3.000e+01, 4.000e+00, 1.700e+01, 7.800e+01],\n",
    "       [8.600e+01, 4.000e+00, 7.460e+02, 4.400e+01, 1.880e+02, 8.630e+02,\n",
    "        1.940e+02, 5.800e+01, 2.130e+02, 3.870e+02, 4.960e+02, 9.950e+02,\n",
    "        3.410e+02, 4.000e+01, 5.000e+01, 8.000e+00, 1.500e+01, 3.600e+01],\n",
    "       [3.000e+01, 4.000e+00, 5.310e+02, 3.500e+01, 9.600e+01, 4.970e+02,\n",
    "        6.100e+01, 3.100e+01, 1.120e+02, 1.260e+02, 4.150e+02, 8.090e+02,\n",
    "        2.430e+02, 3.400e+01, 3.400e+01, 7.000e+00, 1.100e+01, 2.800e+01],\n",
    "       [5.600e+01, 6.000e+00, 2.090e+02, 3.000e+01, 5.800e+01, 1.850e+02,\n",
    "        5.300e+01, 1.300e+01, 4.600e+01, 4.080e+02, 1.490e+02, 3.760e+02,\n",
    "        7.100e+01, 2.000e+01, 1.100e+01, 1.000e+00, 0.000e+00, 6.000e+00],\n",
    "       [8.300e+01, 2.800e+01, 5.600e+02, 9.000e+01, 2.310e+02, 9.700e+02,\n",
    "        1.320e+02, 7.000e+01, 3.890e+02, 2.840e+02, 4.790e+02, 1.357e+03,\n",
    "        4.060e+02, 3.700e+01, 4.100e+01, 7.000e+00, 1.600e+01, 3.900e+01],\n",
    "       [1.030e+02, 1.700e+01, 3.050e+02, 5.900e+01, 9.800e+01, 4.520e+02,\n",
    "        5.300e+01, 2.700e+01, 2.030e+02, 1.150e+02, 2.270e+02, 6.970e+02,\n",
    "        2.650e+02, 1.400e+01, 3.200e+01, 6.000e+00, 6.000e+00, 2.800e+01],\n",
    "       [2.100e+01, 0.000e+00, 2.740e+02, 1.900e+01, 1.640e+02, 1.690e+02,\n",
    "        2.300e+01, 7.000e+00, 2.300e+01, 1.400e+01, 1.010e+02, 2.160e+02,\n",
    "        1.280e+02, 1.500e+01, 1.300e+01, 0.000e+00, 8.000e+00, 1.000e+01],\n",
    "       [5.200e+01, 1.900e+01, 4.010e+02, 5.400e+01, 1.950e+02, 5.770e+02,\n",
    "        5.400e+01, 3.100e+01, 3.400e+02, 1.690e+02, 4.190e+02, 9.160e+02,\n",
    "        2.790e+02, 3.200e+01, 6.600e+01, 6.000e+00, 1.300e+01, 2.800e+01],\n",
    "       [8.600e+01, 0.000e+00, 2.050e+02, 6.900e+01, 1.110e+02, 4.530e+02,\n",
    "        7.300e+01, 2.700e+01, 2.130e+02, 1.050e+02, 2.290e+02, 7.330e+02,\n",
    "        1.660e+02, 2.300e+01, 1.900e+01, 2.000e+00, 9.000e+00, 2.800e+01],\n",
    "       [1.800e+01, 1.000e+00, 5.370e+02, 2.400e+01, 9.600e+01, 4.400e+02,\n",
    "        9.300e+01, 4.000e+01, 9.300e+01, 7.400e+01, 4.340e+02, 1.236e+03,\n",
    "        2.510e+02, 1.300e+01, 2.600e+01, 3.000e+00, 1.300e+01, 3.100e+01],\n",
    "       [1.420e+02, 3.000e+01, 4.850e+02, 4.900e+01, 1.020e+02, 3.410e+02,\n",
    "        9.500e+01, 1.400e+01, 5.900e+01, 1.410e+02, 2.210e+02, 4.070e+02,\n",
    "        1.680e+02, 2.400e+01, 2.500e+01, 2.000e+00, 1.100e+01, 8.000e+00],\n",
    "       [1.400e+01, 1.000e+00, 2.720e+02, 1.700e+01, 5.400e+01, 1.090e+02,\n",
    "        2.200e+01, 8.000e+00, 3.900e+01, 3.800e+01, 8.900e+01, 2.690e+02,\n",
    "        1.800e+02, 8.000e+00, 1.500e+01, 1.000e+00, 6.000e+00, 1.800e+01],\n",
    "       [2.400e+01, 2.400e+01, 1.630e+02, 1.600e+01, 7.700e+01, 1.190e+02,\n",
    "        2.500e+01, 4.000e+00, 3.100e+01, 1.600e+01, 8.500e+01, 1.440e+02,\n",
    "        8.400e+01, 1.400e+01, 8.000e+00, 0.000e+00, 6.000e+00, 3.000e+00],\n",
    "       [2.140e+02, 4.000e+00, 1.560e+02, 1.200e+01, 2.500e+01, 1.840e+02,\n",
    "        3.300e+01, 5.000e+00, 1.900e+01, 4.800e+01, 3.800e+01, 9.500e+01,\n",
    "        3.900e+01, 1.100e+01, 3.000e+00, 1.000e+00, 7.000e+00, 0.000e+00],\n",
    "       [8.700e+01, 6.000e+00, 4.630e+02, 5.100e+01, 1.850e+02, 6.940e+02,\n",
    "        1.700e+02, 5.800e+01, 1.760e+02, 6.500e+01, 3.660e+02, 7.960e+02,\n",
    "        2.460e+02, 2.600e+01, 2.500e+01, 4.000e+00, 1.400e+01, 4.100e+01],\n",
    "       [1.020e+02, 2.100e+01, 2.870e+02, 4.600e+01, 1.690e+02, 6.760e+02,\n",
    "        9.000e+01, 4.300e+01, 1.590e+02, 1.000e+02, 3.480e+02, 8.160e+02,\n",
    "        2.770e+02, 3.100e+01, 4.500e+01, 3.000e+00, 1.400e+01, 4.600e+01]])"
   ]
  },
  {
   "cell_type": "code",
   "execution_count": 33,
   "metadata": {
    "colab": {
     "base_uri": "https://localhost:8080/",
     "height": 571
    },
    "executionInfo": {
     "elapsed": 573,
     "status": "ok",
     "timestamp": 1621864105387,
     "user": {
      "displayName": "王家乐",
      "photoUrl": "",
      "userId": "16213060543179077054"
     },
     "user_tz": -480
    },
    "id": "MqRSHIQ5lt0w",
    "outputId": "89f9c462-a460-4c79-f809-01db86a67cbf"
   },
   "outputs": [
    {
     "name": "stdout",
     "output_type": "stream",
     "text": [
      "Feature: 0, Score: 0.00670\n",
      "Feature: 1, Score: 0.00780\n",
      "Feature: 2, Score: 0.06183\n",
      "Feature: 3, Score: 0.00289\n",
      "Feature: 4, Score: 0.02461\n",
      "Feature: 5, Score: 0.03568\n",
      "Feature: 6, Score: 0.07222\n",
      "Feature: 7, Score: 0.02300\n",
      "Feature: 8, Score: 0.01926\n",
      "Feature: 9, Score: 0.03005\n",
      "Feature: 10, Score: 0.01260\n",
      "Feature: 11, Score: 0.01123\n",
      "Feature: 12, Score: 0.12202\n",
      "Feature: 13, Score: 0.12783\n",
      "Feature: 14, Score: 0.00463\n",
      "Feature: 15, Score: 0.35246\n",
      "Feature: 16, Score: 0.00990\n",
      "Feature: 17, Score: 0.07527\n"
     ]
    },
    {
     "data": {
      "image/png": "[encoded data removed]",
      "text/plain": [
       "<Figure size 432x288 with 1 Axes>"
      ]
     },
     "metadata": {
      "needs_background": "light",
      "tags": []
     },
     "output_type": "display_data"
    }
   ],
   "source": [
    "# define the model\n",
    "model = RandomForestRegressor()\n",
    "# fit the model\n",
    "model.fit(X2, y)\n",
    "# get importance\n",
    "importance = model.feature_importances_\n",
    "# summarize feature importance\n",
    "for i,v in enumerate(importance):\n",
    "\tprint('Feature: %0d, Score: %.5f' % (i,v))\n",
    "# plot feature importance\n",
    "pyplot.bar([x for x in range(len(importance))], importance, color='royalblue',width=0.7)\n",
    "pyplot.show()"
   ]
  },
  {
   "cell_type": "code",
   "execution_count": 23,
   "metadata": {
    "executionInfo": {
     "elapsed": 900,
     "status": "ok",
     "timestamp": 1621863558975,
     "user": {
      "displayName": "王家乐",
      "photoUrl": "",
      "userId": "16213060543179077054"
     },
     "user_tz": -480
    },
    "id": "GEkTEpS3lynl"
   },
   "outputs": [],
   "source": [
    "X3 = X1+X2"
   ]
  },
  {
   "cell_type": "code",
   "execution_count": 32,
   "metadata": {
    "colab": {
     "base_uri": "https://localhost:8080/",
     "height": 571
    },
    "executionInfo": {
     "elapsed": 1181,
     "status": "ok",
     "timestamp": 1621864087826,
     "user": {
      "displayName": "王家乐",
      "photoUrl": "",
      "userId": "16213060543179077054"
     },
     "user_tz": -480
    },
    "id": "zuv9lgmgmenC",
    "outputId": "bda74377-9e71-45ed-a016-ff42a2864efa"
   },
   "outputs": [
    {
     "name": "stdout",
     "output_type": "stream",
     "text": [
      "Feature: 0, Score: 0.01027\n",
      "Feature: 1, Score: 0.00642\n",
      "Feature: 2, Score: 0.06766\n",
      "Feature: 3, Score: 0.01703\n",
      "Feature: 4, Score: 0.04247\n",
      "Feature: 5, Score: 0.03436\n",
      "Feature: 6, Score: 0.02674\n",
      "Feature: 7, Score: 0.02780\n",
      "Feature: 8, Score: 0.01777\n",
      "Feature: 9, Score: 0.02323\n",
      "Feature: 10, Score: 0.01222\n",
      "Feature: 11, Score: 0.02725\n",
      "Feature: 12, Score: 0.09344\n",
      "Feature: 13, Score: 0.11781\n",
      "Feature: 14, Score: 0.02278\n",
      "Feature: 15, Score: 0.39033\n",
      "Feature: 16, Score: 0.01399\n",
      "Feature: 17, Score: 0.04841\n"
     ]
    },
    {
     "data": {
      "image/png": "[encoded data removed]",
      "text/plain": [
       "<Figure size 432x288 with 1 Axes>"
      ]
     },
     "metadata": {
      "needs_background": "light",
      "tags": []
     },
     "output_type": "display_data"
    }
   ],
   "source": [
    "# define the model\n",
    "model = RandomForestRegressor()\n",
    "# fit the model\n",
    "model.fit(X3, y)\n",
    "# get importance\n",
    "importance = model.feature_importances_\n",
    "# summarize feature importance\n",
    "for i,v in enumerate(importance):\n",
    "\tprint('Feature: %0d, Score: %.5f' % (i,v))\n",
    "# plot feature importance\n",
    "pyplot.bar([x for x in range(len(importance))], importance, color='royalblue',width=0.7)\n",
    "pyplot.show()"
   ]
  },
  {
   "cell_type": "code",
   "execution_count": null,
   "metadata": {
    "id": "hAmCGS2imhVq"
   },
   "outputs": [],
   "source": []
  }
 ],
 "metadata": {
  "colab": {
   "authorship_tag": "ABX9TyOALX7tYaKya7eMEYPdlWSB",
   "name": "Untitled0.ipynb",
   "provenance": []
  },
  "kernelspec": {
   "display_name": "Python 3",
   "language": "python",
   "name": "python3"
  },
  "language_info": {
   "codemirror_mode": {
    "name": "ipython",
    "version": 3
   },
   "file_extension": ".py",
   "mimetype": "text/x-python",
   "name": "python",
   "nbconvert_exporter": "python",
   "pygments_lexer": "ipython3",
   "version": "3.8.5"
  }
 },
 "nbformat": 4,
 "nbformat_minor": 1
}
