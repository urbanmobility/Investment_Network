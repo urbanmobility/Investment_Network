{
 "cells": [
  {
   "cell_type": "code",
   "execution_count": 1,
   "metadata": {
    "executionInfo": {
     "elapsed": 681,
     "status": "ok",
     "timestamp": 1621867238364,
     "user": {
      "displayName": "王家乐",
      "photoUrl": "",
      "userId": "16213060543179077054"
     },
     "user_tz": -480
    },
    "id": "xvotJU8c0Vzi"
   },
   "outputs": [],
   "source": [
    "import sklearn\n",
    "import numpy as np"
   ]
  },
  {
   "cell_type": "code",
   "execution_count": 5,
   "metadata": {
    "executionInfo": {
     "elapsed": 255,
     "status": "ok",
     "timestamp": 1621867979366,
     "user": {
      "displayName": "王家乐",
      "photoUrl": "",
      "userId": "16213060543179077054"
     },
     "user_tz": -480
    },
    "id": "SsRYIAZF0eyB"
   },
   "outputs": [],
   "source": [
    "y_in = np.array([0.0233,0.0103,0.0387,0.0294,0.0156,0.0262,0.0130,0.0135,0.0240,0.0751,0.0577,0.0390,0.0248,\n",
    "                            0.0221,0.0595,0.0618,0.0323,0.0369,0.1436,0.0302,0.0154,0.0098,0.0560,0.0270,0.0293,0.0019,\n",
    "                            0.0379,0.0159,0.0056,0.0078,0.0143])"
   ]
  },
  {
   "cell_type": "code",
   "execution_count": 7,
   "metadata": {
    "executionInfo": {
     "elapsed": 578,
     "status": "ok",
     "timestamp": 1621868030913,
     "user": {
      "displayName": "王家乐",
      "photoUrl": "",
      "userId": "16213060543179077054"
     },
     "user_tz": -480
    },
    "id": "gyk_8fLX3cgm"
   },
   "outputs": [],
   "source": [
    "y_out = np.array([0.0135,0.0091,0.0474,0.0299,0.0161,0.0254,0.0129,0.0142,0.0180,0.0733,0.0481,0.0445,\n",
    "                             0.0234,0.0241,0.0599,0.0708,0.0346,0.0403,0.1274,0.0325,0.0150,0.0114,0.0625,0.0324,\n",
    "                             0.0304,0.0014,0.0368,0.0163,0.0053,0.0077,0.0132])"
   ]
  },
  {
   "cell_type": "code",
   "execution_count": 3,
   "metadata": {
    "executionInfo": {
     "elapsed": 260,
     "status": "ok",
     "timestamp": 1621867947620,
     "user": {
      "displayName": "王家乐",
      "photoUrl": "",
      "userId": "16213060543179077054"
     },
     "user_tz": -480
    },
    "id": "YrVOJrkr1CHW"
   },
   "outputs": [],
   "source": [
    "X_out = np.array([[2.8600e+02, 9.5000e+01, 2.3160e+03, 4.0800e+02, 1.0930e+03,\n",
    "        4.1490e+03, 4.1500e+02, 1.7900e+02, 1.3230e+03, 1.1350e+03,\n",
    "        1.6700e+03, 1.6806e+04, 7.8160e+03, 1.3100e+02, 1.5300e+02,\n",
    "        2.7000e+01, 2.9000e+01, 6.0500e+02],\n",
    "       [3.2000e+01, 2.0000e+01, 6.6900e+02, 6.2000e+01, 1.4300e+02,\n",
    "        7.1100e+02, 1.3900e+02, 1.7000e+01, 7.6000e+01, 4.4100e+02,\n",
    "        2.1600e+02, 5.6000e+02, 4.3300e+02, 7.0000e+00, 2.0000e+01,\n",
    "        4.0000e+00, 3.0000e+00, 4.4000e+01],\n",
    "       [1.1210e+03, 9.3000e+01, 1.2560e+03, 1.3300e+02, 4.2800e+02,\n",
    "        1.7720e+03, 2.3900e+02, 3.9000e+01, 1.6400e+02, 7.5100e+02,\n",
    "        6.7900e+02, 1.1160e+03, 5.4200e+02, 6.5000e+01, 6.1000e+01,\n",
    "        5.0000e+00, 8.0000e+00, 3.4000e+01],\n",
    "       [1.6100e+02, 1.2800e+02, 3.7300e+02, 1.0800e+02, 1.5500e+02,\n",
    "        1.3390e+03, 1.5000e+02, 2.1000e+01, 1.7600e+02, 1.2700e+02,\n",
    "        1.8800e+02, 7.0400e+02, 1.9000e+02, 2.6000e+01, 3.1000e+01,\n",
    "        3.0000e+00, 4.0000e+00, 2.0000e+01],\n",
    "       [2.6300e+02, 1.0300e+02, 3.6300e+02, 1.2200e+02, 1.4800e+02,\n",
    "        7.3500e+02, 1.1900e+02, 4.4000e+01, 5.9000e+01, 1.3300e+02,\n",
    "        1.6100e+02, 6.3000e+02, 1.2300e+02, 4.2000e+01, 9.7000e+01,\n",
    "        4.0000e+00, 2.0000e+00, 2.1000e+01],\n",
    "       [4.4500e+02, 1.0000e+02, 2.0530e+03, 2.5000e+02, 7.0000e+02,\n",
    "        2.8040e+03, 5.0800e+02, 9.1000e+01, 3.1800e+02, 4.5100e+02,\n",
    "        8.8100e+02, 2.6250e+03, 7.2900e+02, 8.4000e+01, 1.3900e+02,\n",
    "        5.0000e+00, 1.6000e+01, 1.0300e+02],\n",
    "       [2.8700e+02, 3.3000e+01, 3.9100e+02, 7.0000e+01, 1.3400e+02,\n",
    "        5.3100e+02, 8.3000e+01, 1.5000e+01, 6.7000e+01, 1.1400e+02,\n",
    "        1.2700e+02, 6.0000e+02, 1.4600e+02, 3.2000e+01, 2.0000e+01,\n",
    "        1.0000e+00, 1.0000e+00, 2.6000e+01],\n",
    "       [3.0900e+02, 3.6000e+01, 5.6700e+02, 1.2600e+02, 2.4900e+02,\n",
    "        8.5400e+02, 1.6000e+02, 3.9000e+01, 1.1500e+02, 1.2900e+02,\n",
    "        2.0100e+02, 8.3500e+02, 2.9600e+02, 3.0000e+01, 5.3000e+01,\n",
    "        2.0000e+00, 2.0000e+00, 2.4000e+01],\n",
    "       [2.7800e+02, 2.2000e+01, 3.4460e+03, 1.1400e+02, 1.3520e+03,\n",
    "        7.8980e+03, 9.1500e+02, 2.6200e+02, 1.4450e+03, 1.2640e+03,\n",
    "        3.0710e+03, 1.4477e+04, 3.6130e+03, 1.8200e+02, 2.0200e+02,\n",
    "        2.9000e+01, 2.7000e+01, 2.3900e+02],\n",
    "       [4.3500e+02, 7.0000e+01, 3.8030e+03, 1.9900e+02, 1.8710e+03,\n",
    "        3.5130e+03, 5.5500e+02, 1.3400e+02, 9.6300e+02, 5.0200e+02,\n",
    "        1.4270e+03, 7.4050e+03, 2.3420e+03, 1.7800e+02, 3.1100e+02,\n",
    "        2.1000e+01, 4.6000e+01, 2.6400e+02],\n",
    "       [6.3700e+02, 2.6000e+01, 5.8090e+03, 2.5500e+02, 1.1910e+03,\n",
    "        4.9260e+03, 6.1100e+02, 1.8000e+02, 1.7550e+03, 8.0700e+02,\n",
    "        2.2210e+03, 1.3507e+04, 2.0020e+03, 2.1500e+02, 4.0400e+02,\n",
    "        2.8000e+01, 4.5000e+01, 2.5500e+02],\n",
    "       [4.6200e+02, 4.8000e+01, 9.9300e+02, 9.8000e+01, 4.0900e+02,\n",
    "        1.1870e+03, 1.5000e+02, 4.8000e+01, 2.4600e+02, 3.3900e+02,\n",
    "        5.1300e+02, 1.9290e+03, 3.8800e+02, 9.6000e+01, 1.0200e+02,\n",
    "        1.6000e+01, 6.0000e+00, 4.8000e+01],\n",
    "       [3.9200e+02, 3.8000e+01, 1.5570e+03, 1.9300e+02, 4.9600e+02,\n",
    "        2.4340e+03, 3.3300e+02, 6.7000e+01, 5.5700e+02, 1.5900e+02,\n",
    "        9.4900e+02, 3.9720e+03, 5.3600e+02, 8.5000e+01, 4.8000e+01,\n",
    "        1.6000e+01, 1.2000e+01, 8.3000e+01],\n",
    "       [4.3500e+02, 5.4000e+01, 8.2900e+02, 1.1100e+02, 4.2700e+02,\n",
    "        1.0340e+03, 1.8400e+02, 4.5000e+01, 1.8400e+02, 2.3500e+02,\n",
    "        5.0700e+02, 1.4480e+03, 1.9000e+02, 4.7000e+01, 8.6000e+01,\n",
    "        1.0000e+01, 6.0000e+00, 6.6000e+01],\n",
    "       [1.1690e+03, 2.9900e+02, 4.3310e+03, 3.6500e+02, 1.4020e+03,\n",
    "        5.2740e+03, 7.4800e+02, 1.6800e+02, 8.7300e+02, 1.3510e+03,\n",
    "        1.9770e+03, 6.0510e+03, 1.4170e+03, 1.8400e+02, 2.2200e+02,\n",
    "        2.9000e+01, 3.6000e+01, 1.5300e+02],\n",
    "       [5.5100e+02, 8.5000e+01, 1.1310e+03, 2.2000e+02, 6.8800e+02,\n",
    "        2.2190e+03, 2.6800e+02, 8.0000e+01, 3.4200e+02, 3.9100e+02,\n",
    "        1.1280e+03, 2.5980e+03, 6.0600e+02, 1.1800e+02, 1.1300e+02,\n",
    "        1.9000e+01, 1.1000e+01, 6.4000e+01],\n",
    "       [3.2100e+02, 2.4000e+01, 9.8600e+02, 1.1000e+02, 4.0000e+02,\n",
    "        1.1480e+03, 1.7800e+02, 4.7000e+01, 2.4700e+02, 2.9700e+02,\n",
    "        5.3300e+02, 1.9690e+03, 6.5500e+02, 5.3000e+01, 4.1000e+01,\n",
    "        6.0000e+00, 6.0000e+00, 5.8000e+01],\n",
    "       [7.7400e+02, 4.4000e+01, 1.0860e+03, 1.3300e+02, 4.1500e+02,\n",
    "        1.5450e+03, 1.7300e+02, 6.2000e+01, 3.3800e+02, 6.9500e+02,\n",
    "        6.1000e+02, 2.0270e+03, 6.2100e+02, 7.5000e+01, 6.0000e+01,\n",
    "        1.4000e+01, 3.9000e+01, 1.2000e+02],\n",
    "       [6.0600e+02, 5.8000e+01, 5.4370e+03, 4.0300e+02, 1.6920e+03,\n",
    "        1.3922e+04, 1.2380e+03, 4.6400e+02, 3.3320e+03, 2.6980e+03,\n",
    "        5.9700e+03, 2.1840e+04, 3.3670e+03, 2.5400e+02, 9.8400e+02,\n",
    "        1.1200e+02, 3.8000e+01, 4.6800e+02],\n",
    "       [3.9600e+02, 2.6000e+01, 4.6600e+02, 1.1600e+02, 1.8500e+02,\n",
    "        1.0780e+03, 1.8200e+02, 4.0000e+01, 1.6500e+02, 1.5500e+02,\n",
    "        4.1800e+02, 2.0050e+03, 2.7300e+02, 5.9000e+01, 2.3000e+01,\n",
    "        5.0000e+00, 5.0000e+00, 2.8000e+01],\n",
    "       [2.2000e+02, 2.7000e+01, 1.9600e+02, 1.7000e+01, 9.5000e+01,\n",
    "        4.8500e+02, 8.0000e+01, 2.4000e+01, 6.9000e+01, 4.7000e+01,\n",
    "        4.0500e+02, 4.5900e+02, 6.2000e+01, 1.9000e+01, 2.2000e+01,\n",
    "        3.0000e+00, 4.0000e+00, 3.3000e+01],\n",
    "       [2.3600e+02, 2.5000e+01, 6.5300e+02, 7.3000e+01, 2.8600e+02,\n",
    "        1.2680e+03, 1.4500e+02, 6.0000e+01, 5.2000e+02, 7.2600e+02,\n",
    "        5.1800e+02, 1.3070e+03, 3.3000e+02, 7.2000e+01, 5.4000e+01,\n",
    "        1.1000e+01, 1.1000e+01, 5.4000e+01],\n",
    "       [8.5800e+02, 7.5000e+01, 1.4900e+03, 3.4200e+02, 9.3300e+02,\n",
    "        2.6690e+03, 3.5000e+02, 1.2900e+02, 7.5300e+02, 2.1600e+02,\n",
    "        1.1220e+03, 4.3200e+03, 1.1670e+03, 7.2000e+01, 1.9500e+02,\n",
    "        1.4000e+01, 3.1000e+01, 1.2500e+02],\n",
    "       [2.6000e+02, 5.3000e+01, 3.8200e+02, 8.9000e+01, 2.1200e+02,\n",
    "        1.0880e+03, 1.0200e+02, 3.0000e+01, 1.5000e+02, 1.0400e+02,\n",
    "        2.7200e+02, 1.2770e+03, 1.7900e+02, 7.1000e+01, 6.5000e+01,\n",
    "        6.0000e+00, 8.0000e+00, 3.8000e+01],\n",
    "       [3.8500e+02, 8.8000e+01, 5.1500e+02, 1.3600e+02, 3.0400e+02,\n",
    "        1.2070e+03, 1.3100e+02, 6.1000e+01, 2.2100e+02, 1.5400e+02,\n",
    "        4.2200e+02, 1.7270e+03, 3.6000e+02, 7.4000e+01, 7.5000e+01,\n",
    "        2.0000e+01, 7.0000e+00, 3.3000e+01],\n",
    "       [1.9000e+01, 1.5000e+01, 4.5000e+01, 1.5000e+01, 2.8000e+01,\n",
    "        1.6000e+02, 2.7000e+01, 6.0000e+00, 8.5000e+01, 5.8000e+01,\n",
    "        4.0000e+01, 1.1620e+03, 1.4500e+02, 1.0000e+01, 6.0000e+00,\n",
    "        0.0000e+00, 0.0000e+00, 1.7000e+01],\n",
    "       [2.1900e+02, 6.2000e+01, 5.2800e+02, 9.1000e+01, 4.5000e+02,\n",
    "        1.3160e+03, 1.0600e+02, 4.3000e+01, 3.1400e+02, 2.1100e+02,\n",
    "        5.9000e+02, 1.4570e+03, 3.2800e+02, 5.3000e+01, 1.1700e+02,\n",
    "        6.0000e+00, 9.0000e+00, 3.9000e+01],\n",
    "       [1.3040e+03, 6.2000e+01, 4.4800e+02, 8.3000e+01, 2.1700e+02,\n",
    "        9.7400e+02, 1.1900e+02, 4.5000e+01, 5.1000e+01, 1.3400e+02,\n",
    "        2.7300e+02, 5.9900e+02, 2.4000e+02, 3.4000e+01, 5.6000e+01,\n",
    "        2.0000e+00, 0.0000e+00, 2.5000e+01],\n",
    "       [6.7000e+01, 2.8000e+01, 9.0000e+01, 3.3000e+01, 6.5000e+01,\n",
    "        1.2200e+02, 4.2000e+01, 1.0000e+01, 1.2000e+01, 6.2000e+01,\n",
    "        5.1000e+01, 1.5800e+02, 2.9000e+01, 1.1000e+01, 2.5000e+01,\n",
    "        1.0000e+00, 1.0000e+00, 4.0000e+00],\n",
    "       [2.4000e+01, 5.0000e+00, 7.1000e+01, 1.0000e+01, 2.1000e+01,\n",
    "        1.0100e+02, 1.1000e+01, 4.0000e+00, 9.0000e+00, 4.0000e+01,\n",
    "        2.3000e+01, 8.2000e+01, 6.0000e+00, 2.0000e+00, 4.0000e+00,\n",
    "        0.0000e+00, 1.0000e+00, 5.0000e+00],\n",
    "       [7.4000e+01, 2.8000e+01, 2.0600e+02, 3.1000e+01, 9.3000e+01,\n",
    "        5.1300e+02, 8.9000e+01, 3.2000e+01, 5.0000e+01, 7.7000e+01,\n",
    "        7.2000e+01, 5.4400e+02, 8.2000e+01, 3.0000e+00, 8.4000e+01,\n",
    "        1.0000e+00, 0.0000e+00, 1.0000e+01]])"
   ]
  },
  {
   "cell_type": "code",
   "execution_count": 8,
   "metadata": {
    "executionInfo": {
     "elapsed": 913,
     "status": "ok",
     "timestamp": 1621868147940,
     "user": {
      "displayName": "王家乐",
      "photoUrl": "",
      "userId": "16213060543179077054"
     },
     "user_tz": -480
    },
    "id": "DqG6VqSu3kTQ"
   },
   "outputs": [],
   "source": [
    "X_in = np.array([[1.7800e+02, 5.7000e+01, 1.5940e+03, 1.9000e+02, 7.4200e+02,\n",
    "        2.9750e+03, 3.0300e+02, 2.4800e+02, 1.2730e+03, 9.1400e+02,\n",
    "        1.4000e+03, 7.5110e+03, 6.7790e+03, 1.7000e+02, 1.4200e+02,\n",
    "        2.7000e+01, 6.1000e+01, 5.7200e+02],\n",
    "       [2.5000e+01, 1.3000e+01, 5.0000e+02, 3.0000e+01, 1.0200e+02,\n",
    "        4.0900e+02, 8.4000e+01, 2.1000e+01, 3.1000e+01, 1.9600e+02,\n",
    "        1.5800e+02, 2.0200e+02, 3.1200e+02, 9.0000e+00, 2.1000e+01,\n",
    "        1.0000e+00, 2.0000e+00, 1.7000e+01],\n",
    "       [1.0280e+03, 7.2000e+01, 1.1370e+03, 2.2200e+02, 2.9900e+02,\n",
    "        1.1670e+03, 2.3300e+02, 8.2000e+01, 1.9100e+02, 9.5300e+02,\n",
    "        6.4500e+02, 8.4600e+02, 6.5100e+02, 7.7000e+01, 6.1000e+01,\n",
    "        7.0000e+00, 2.0000e+01, 4.3000e+01],\n",
    "       [1.5700e+02, 1.6600e+02, 4.0700e+02, 1.4200e+02, 1.2400e+02,\n",
    "        8.5300e+02, 1.6800e+02, 4.0000e+01, 1.7200e+02, 1.6800e+02,\n",
    "        1.9800e+02, 4.9600e+02, 1.6400e+02, 4.3000e+01, 3.5000e+01,\n",
    "        3.0000e+00, 9.0000e+00, 2.5000e+01],\n",
    "       [3.1000e+02, 1.3400e+02, 4.5100e+02, 2.0100e+02, 1.2500e+02,\n",
    "        6.0300e+02, 1.1800e+02, 3.5000e+01, 6.4000e+01, 2.1300e+02,\n",
    "        1.7100e+02, 5.0800e+02, 1.6500e+02, 4.0000e+01, 4.1000e+01,\n",
    "        1.0000e+00, 6.0000e+00, 2.5000e+01],\n",
    "       [5.1200e+02, 8.0000e+01, 1.9100e+03, 2.4600e+02, 6.4600e+02,\n",
    "        2.2700e+03, 4.1400e+02, 1.3800e+02, 3.8400e+02, 4.5400e+02,\n",
    "        9.8800e+02, 1.7490e+03, 7.4600e+02, 8.7000e+01, 1.4800e+02,\n",
    "        9.0000e+00, 3.7000e+01, 1.2100e+02],\n",
    "       [2.8700e+02, 3.6000e+01, 4.9700e+02, 1.0300e+02, 9.3000e+01,\n",
    "        3.5900e+02, 7.0000e+01, 9.0000e+00, 7.2000e+01, 1.7600e+02,\n",
    "        1.7100e+02, 3.5100e+02, 1.2600e+02, 2.5000e+01, 1.2000e+01,\n",
    "        1.0000e+00, 1.0000e+00, 2.0000e+01],\n",
    "       [3.1800e+02, 4.4000e+01, 6.4300e+02, 1.4400e+02, 1.8400e+02,\n",
    "        6.8300e+02, 1.7000e+02, 4.4000e+01, 1.2400e+02, 1.6700e+02,\n",
    "        2.3500e+02, 5.0700e+02, 3.1700e+02, 3.1000e+01, 3.2000e+01,\n",
    "        2.0000e+00, 4.0000e+00, 1.6000e+01],\n",
    "       [2.5500e+02, 2.4000e+01, 3.1910e+03, 7.4000e+01, 1.2450e+03,\n",
    "        6.6060e+03, 9.0900e+02, 2.8300e+02, 1.6450e+03, 1.0340e+03,\n",
    "        2.8910e+03, 9.4310e+03, 3.8170e+03, 2.5100e+02, 2.6100e+02,\n",
    "        2.4000e+01, 5.6000e+01, 2.3900e+02],\n",
    "       [3.7600e+02, 3.8000e+01, 3.3860e+03, 2.6400e+02, 1.7470e+03,\n",
    "        2.5200e+03, 5.4400e+02, 1.8000e+02, 9.6600e+02, 4.6400e+02,\n",
    "        1.6130e+03, 4.3820e+03, 2.5410e+03, 1.8800e+02, 2.4500e+02,\n",
    "        3.1000e+01, 7.5000e+01, 2.9400e+02],\n",
    "       [7.9100e+02, 2.4000e+01, 4.4150e+03, 3.5800e+02, 9.8600e+02,\n",
    "        3.7520e+03, 5.9800e+02, 2.7200e+02, 2.1600e+03, 2.0600e+03,\n",
    "        2.5350e+03, 9.3590e+03, 2.6070e+03, 2.8200e+02, 4.1400e+02,\n",
    "        5.2000e+01, 7.6000e+01, 3.3300e+02],\n",
    "       [4.9200e+02, 6.5000e+01, 1.0780e+03, 1.5200e+02, 2.6300e+02,\n",
    "        8.7700e+02, 1.5100e+02, 5.3000e+01, 2.8000e+02, 3.1600e+02,\n",
    "        5.4900e+02, 1.3620e+03, 4.7000e+02, 5.9000e+01, 6.8000e+01,\n",
    "        1.1000e+01, 1.6000e+01, 4.6000e+01],\n",
    "       [6.1400e+02, 3.2000e+01, 1.1750e+03, 2.5900e+02, 3.8700e+02,\n",
    "        1.7160e+03, 3.4500e+02, 1.0500e+02, 6.4600e+02, 7.9600e+02,\n",
    "        9.0700e+02, 2.6610e+03, 6.8800e+02, 1.0400e+02, 7.4000e+01,\n",
    "        2.2000e+01, 2.5000e+01, 1.0900e+02],\n",
    "       [5.2600e+02, 5.5000e+01, 8.3100e+02, 1.4400e+02, 2.7900e+02,\n",
    "        7.9400e+02, 1.3400e+02, 5.2000e+01, 2.0300e+02, 3.1100e+02,\n",
    "        5.6300e+02, 1.1610e+03, 2.0400e+02, 8.2000e+01, 8.3000e+01,\n",
    "        1.5000e+01, 9.0000e+00, 5.0000e+01],\n",
    "       [1.3820e+03, 1.9100e+02, 4.3780e+03, 5.9500e+02, 1.1390e+03,\n",
    "        3.7360e+03, 7.2400e+02, 2.4500e+02, 9.4600e+02, 1.5200e+03,\n",
    "        2.3630e+03, 4.5170e+03, 1.6140e+03, 2.1200e+02, 2.1600e+02,\n",
    "        5.1000e+01, 8.5000e+01, 1.4300e+02],\n",
    "       [5.2500e+02, 1.2000e+02, 1.3480e+03, 3.3800e+02, 5.6600e+02,\n",
    "        1.6700e+03, 2.5900e+02, 8.9000e+01, 3.7100e+02, 4.7800e+02,\n",
    "        1.2520e+03, 1.9790e+03, 7.2300e+02, 1.0200e+02, 1.3800e+02,\n",
    "        9.0000e+00, 2.4000e+01, 6.1000e+01],\n",
    "       [3.2000e+02, 2.7000e+01, 9.2600e+02, 1.2200e+02, 2.6200e+02,\n",
    "        7.1500e+02, 1.9500e+02, 4.2000e+01, 2.4800e+02, 5.8900e+02,\n",
    "        5.1800e+02, 1.3800e+03, 6.5100e+02, 5.7000e+01, 2.4000e+01,\n",
    "        1.1000e+01, 1.3000e+01, 6.9000e+01],\n",
    "       [7.9100e+02, 5.5000e+01, 1.2400e+03, 1.9200e+02, 3.2200e+02,\n",
    "        1.1090e+03, 1.7100e+02, 9.1000e+01, 3.6600e+02, 9.2500e+02,\n",
    "        7.0700e+02, 1.5190e+03, 7.4400e+02, 9.9000e+01, 6.6000e+01,\n",
    "        8.0000e+00, 4.3000e+01, 1.1500e+02],\n",
    "       [6.4800e+02, 5.2000e+01, 5.7090e+03, 3.9400e+02, 1.5150e+03,\n",
    "        1.0740e+04, 1.2270e+03, 7.0900e+02, 3.3700e+03, 2.7310e+03,\n",
    "        5.3120e+03, 1.3943e+04, 3.7240e+03, 2.7800e+02, 9.2500e+02,\n",
    "        1.0300e+02, 9.2000e+01, 6.0300e+02],\n",
    "       [5.6000e+02, 5.5000e+01, 6.1200e+02, 1.4800e+02, 1.8400e+02,\n",
    "        7.3100e+02, 1.5500e+02, 5.8000e+01, 1.6600e+02, 1.2900e+02,\n",
    "        5.0800e+02, 1.5770e+03, 3.3500e+02, 5.0000e+01, 4.7000e+01,\n",
    "        5.0000e+00, 1.1000e+01, 3.6000e+01],\n",
    "       [1.6100e+02, 2.7000e+01, 1.7600e+02, 8.0000e+00, 6.5000e+01,\n",
    "        3.3000e+02, 5.6000e+01, 4.5000e+01, 4.5000e+01, 4.0000e+01,\n",
    "        3.5700e+02, 2.5100e+02, 4.1000e+01, 1.1000e+01, 1.7000e+01,\n",
    "        6.0000e+00, 2.0000e+00, 3.2000e+01],\n",
    "       [2.1100e+02, 2.6000e+01, 7.1100e+02, 1.0500e+02, 2.5200e+02,\n",
    "        1.0810e+03, 1.6800e+02, 5.5000e+01, 5.0300e+02, 4.7700e+02,\n",
    "        5.1700e+02, 1.1970e+03, 3.3100e+02, 9.0000e+01, 6.8000e+01,\n",
    "        2.5000e+01, 2.6000e+01, 9.2000e+01],\n",
    "       [8.3700e+02, 1.0600e+02, 1.5730e+03, 3.5600e+02, 6.1400e+02,\n",
    "        1.9540e+03, 3.2200e+02, 1.0600e+02, 8.4000e+02, 3.9800e+02,\n",
    "        1.1590e+03, 3.2180e+03, 1.2430e+03, 8.4000e+01, 1.4900e+02,\n",
    "        2.1000e+01, 5.5000e+01, 1.1200e+02],\n",
    "       [2.8800e+02, 6.6000e+01, 4.7200e+02, 1.0900e+02, 1.8200e+02,\n",
    "        9.1100e+02, 1.2400e+02, 4.5000e+01, 1.9900e+02, 1.6600e+02,\n",
    "        3.7000e+02, 1.0470e+03, 1.9800e+02, 5.3000e+01, 6.3000e+01,\n",
    "        6.0000e+00, 1.2000e+01, 3.0000e+01],\n",
    "       [4.7400e+02, 1.0200e+02, 5.4600e+02, 2.1300e+02, 2.5400e+02,\n",
    "        1.0670e+03, 1.2200e+02, 6.8000e+01, 2.0100e+02, 1.4800e+02,\n",
    "        5.8000e+02, 1.3240e+03, 3.7100e+02, 1.0600e+02, 7.8000e+01,\n",
    "        1.1000e+01, 1.9000e+01, 6.5000e+01],\n",
    "       [2.4000e+01, 4.5000e+01, 6.7000e+01, 1.4000e+01, 1.8000e+01,\n",
    "        1.4500e+02, 8.0000e+00, 3.0000e+00, 5.7000e+01, 2.9000e+01,\n",
    "        3.1000e+01, 4.8200e+02, 9.0000e+01, 2.3000e+01, 3.0000e+00,\n",
    "        1.0000e+00, 4.0000e+00, 5.0000e+00],\n",
    "       [2.5700e+02, 4.9000e+01, 6.4400e+02, 1.2200e+02, 2.6900e+02,\n",
    "        8.9300e+02, 1.0700e+02, 4.6000e+01, 3.7600e+02, 2.9500e+02,\n",
    "        5.5700e+02, 1.1030e+03, 3.3200e+02, 6.7000e+01, 9.2000e+01,\n",
    "        9.0000e+00, 1.4000e+01, 3.8000e+01],\n",
    "       [1.2770e+03, 6.4000e+01, 4.2800e+02, 1.0600e+02, 1.4400e+02,\n",
    "        6.8500e+02, 9.3000e+01, 4.6000e+01, 6.4000e+01, 4.1900e+02,\n",
    "        2.6100e+02, 4.0400e+02, 2.8500e+02, 5.3000e+01, 8.9000e+01,\n",
    "        4.0000e+00, 6.0000e+00, 1.6000e+01],\n",
    "       [5.9000e+01, 3.2000e+01, 1.4500e+02, 4.5000e+01, 2.9000e+01,\n",
    "        1.2100e+02, 2.6000e+01, 6.0000e+00, 2.2000e+01, 9.6000e+01,\n",
    "        4.9000e+01, 1.3500e+02, 3.2000e+01, 1.2000e+01, 1.7000e+01,\n",
    "        3.0000e+00, 2.0000e+00, 3.0000e+00],\n",
    "       [1.9000e+01, 1.0000e+00, 8.6000e+01, 1.6000e+01, 7.0000e+00,\n",
    "        5.9000e+01, 1.3000e+01, 4.0000e+00, 7.0000e+00, 1.6000e+01,\n",
    "        1.1000e+01, 4.2000e+01, 1.2000e+01, 1.0000e+00, 4.0000e+00,\n",
    "        0.0000e+00, 0.0000e+00, 1.0000e+00],\n",
    "       [1.7400e+02, 3.0000e+01, 2.2000e+02, 4.5000e+01, 3.4000e+01,\n",
    "        2.6000e+02, 3.4000e+01, 1.4000e+01, 1.8000e+01, 4.5000e+01,\n",
    "        4.2000e+01, 1.6600e+02, 3.5000e+01, 8.0000e+00, 1.3000e+01,\n",
    "        0.0000e+00, 4.0000e+00, 4.0000e+00]])"
   ]
  },
  {
   "cell_type": "code",
   "execution_count": 6,
   "metadata": {
    "colab": {
     "base_uri": "https://localhost:8080/",
     "height": 571
    },
    "executionInfo": {
     "elapsed": 607,
     "status": "ok",
     "timestamp": 1621867984664,
     "user": {
      "displayName": "王家乐",
      "photoUrl": "",
      "userId": "16213060543179077054"
     },
     "user_tz": -480
    },
    "id": "u2n18Xwi3OJn",
    "outputId": "ab75f2cc-34ea-440f-d35c-cefbd635094a"
   },
   "outputs": [
    {
     "name": "stdout",
     "output_type": "stream",
     "text": [
      "Feature: 0, Score: 0.09588\n",
      "Feature: 1, Score: 0.01086\n",
      "Feature: 2, Score: 0.02978\n",
      "Feature: 3, Score: 0.10908\n",
      "Feature: 4, Score: 0.07408\n",
      "Feature: 5, Score: 0.07089\n",
      "Feature: 6, Score: 0.02518\n",
      "Feature: 7, Score: 0.04489\n",
      "Feature: 8, Score: 0.06339\n",
      "Feature: 9, Score: 0.05297\n",
      "Feature: 10, Score: 0.09797\n",
      "Feature: 11, Score: 0.01864\n",
      "Feature: 12, Score: 0.01443\n",
      "Feature: 13, Score: 0.04856\n",
      "Feature: 14, Score: 0.10913\n",
      "Feature: 15, Score: 0.03590\n",
      "Feature: 16, Score: 0.08458\n",
      "Feature: 17, Score: 0.01378\n"
     ]
    },
    {
     "data": {
      "image/png": "[encoded data removed]",
      "text/plain": [
       "<Figure size 432x288 with 1 Axes>"
      ]
     },
     "metadata": {
      "needs_background": "light",
      "tags": []
     },
     "output_type": "display_data"
    }
   ],
   "source": [
    "# random forest for feature importance on a regression problem\n",
    "from sklearn.datasets import make_regression\n",
    "from sklearn.ensemble import RandomForestRegressor\n",
    "from matplotlib import pyplot\n",
    "# define the model\n",
    "model = RandomForestRegressor()\n",
    "# fit the model\n",
    "model.fit(X_out, y_in)\n",
    "# get importance\n",
    "importance = model.feature_importances_\n",
    "# summarize feature importance\n",
    "for i,v in enumerate(importance):\n",
    "\tprint('Feature: %0d, Score: %.5f' % (i,v))\n",
    "# plot feature importance\n",
    "pyplot.bar([x for x in range(len(importance))], importance, color='royalblue',width=0.7)\n",
    "pyplot.show()"
   ]
  },
  {
   "cell_type": "code",
   "execution_count": 9,
   "metadata": {
    "colab": {
     "base_uri": "https://localhost:8080/",
     "height": 571
    },
    "executionInfo": {
     "elapsed": 541,
     "status": "ok",
     "timestamp": 1621868171509,
     "user": {
      "displayName": "王家乐",
      "photoUrl": "",
      "userId": "16213060543179077054"
     },
     "user_tz": -480
    },
    "id": "XZscP8xh3UVj",
    "outputId": "f83e2cfb-0b11-4183-fb39-b6a85b0c22a9"
   },
   "outputs": [
    {
     "name": "stdout",
     "output_type": "stream",
     "text": [
      "Feature: 0, Score: 0.01444\n",
      "Feature: 1, Score: 0.01368\n",
      "Feature: 2, Score: 0.02050\n",
      "Feature: 3, Score: 0.40060\n",
      "Feature: 4, Score: 0.05117\n",
      "Feature: 5, Score: 0.03973\n",
      "Feature: 6, Score: 0.03653\n",
      "Feature: 7, Score: 0.00487\n",
      "Feature: 8, Score: 0.06586\n",
      "Feature: 9, Score: 0.03066\n",
      "Feature: 10, Score: 0.01959\n",
      "Feature: 11, Score: 0.05180\n",
      "Feature: 12, Score: 0.05656\n",
      "Feature: 13, Score: 0.01407\n",
      "Feature: 14, Score: 0.04818\n",
      "Feature: 15, Score: 0.05391\n",
      "Feature: 16, Score: 0.05489\n",
      "Feature: 17, Score: 0.02297\n"
     ]
    },
    {
     "data": {
      "image/png": "[encoded data removed]",
      "text/plain": [
       "<Figure size 432x288 with 1 Axes>"
      ]
     },
     "metadata": {
      "needs_background": "light",
      "tags": []
     },
     "output_type": "display_data"
    }
   ],
   "source": [
    "# random forest for feature importance on a regression problem\n",
    "from sklearn.datasets import make_regression\n",
    "from sklearn.ensemble import RandomForestRegressor\n",
    "from matplotlib import pyplot\n",
    "# define the model\n",
    "model = RandomForestRegressor()\n",
    "# fit the model\n",
    "model.fit(X_in, y_in)\n",
    "# get importance\n",
    "importance = model.feature_importances_\n",
    "# summarize feature importance\n",
    "for i,v in enumerate(importance):\n",
    "\tprint('Feature: %0d, Score: %.5f' % (i,v))\n",
    "# plot feature importance\n",
    "pyplot.bar([x for x in range(len(importance))], importance, color='royalblue',width=0.7)\n",
    "pyplot.show()"
   ]
  },
  {
   "cell_type": "code",
   "execution_count": 10,
   "metadata": {
    "colab": {
     "base_uri": "https://localhost:8080/",
     "height": 571
    },
    "executionInfo": {
     "elapsed": 1123,
     "status": "ok",
     "timestamp": 1621868192068,
     "user": {
      "displayName": "王家乐",
      "photoUrl": "",
      "userId": "16213060543179077054"
     },
     "user_tz": -480
    },
    "id": "Pw60ZWao4Eu8",
    "outputId": "fcc18674-4d1c-49df-959e-90f9c6cb8cf4"
   },
   "outputs": [
    {
     "name": "stdout",
     "output_type": "stream",
     "text": [
      "Feature: 0, Score: 0.23426\n",
      "Feature: 1, Score: 0.01836\n",
      "Feature: 2, Score: 0.00589\n",
      "Feature: 3, Score: 0.14050\n",
      "Feature: 4, Score: 0.13018\n",
      "Feature: 5, Score: 0.03601\n",
      "Feature: 6, Score: 0.01915\n",
      "Feature: 7, Score: 0.02299\n",
      "Feature: 8, Score: 0.06650\n",
      "Feature: 9, Score: 0.01916\n",
      "Feature: 10, Score: 0.04450\n",
      "Feature: 11, Score: 0.04055\n",
      "Feature: 12, Score: 0.01782\n",
      "Feature: 13, Score: 0.02796\n",
      "Feature: 14, Score: 0.05978\n",
      "Feature: 15, Score: 0.02006\n",
      "Feature: 16, Score: 0.07484\n",
      "Feature: 17, Score: 0.02150\n"
     ]
    },
    {
     "data": {
      "image/png": "[encoded data removed]",
      "text/plain": [
       "<Figure size 432x288 with 1 Axes>"
      ]
     },
     "metadata": {
      "needs_background": "light",
      "tags": []
     },
     "output_type": "display_data"
    }
   ],
   "source": [
    "# random forest for feature importance on a regression problem\n",
    "from sklearn.datasets import make_regression\n",
    "from sklearn.ensemble import RandomForestRegressor\n",
    "from matplotlib import pyplot\n",
    "# define the model\n",
    "model = RandomForestRegressor()\n",
    "# fit the model\n",
    "model.fit(X_out, y_out)\n",
    "# get importance\n",
    "importance = model.feature_importances_\n",
    "# summarize feature importance\n",
    "for i,v in enumerate(importance):\n",
    "\tprint('Feature: %0d, Score: %.5f' % (i,v))\n",
    "# plot feature importance\n",
    "pyplot.bar([x for x in range(len(importance))], importance, color='royalblue',width=0.7)\n",
    "pyplot.show()"
   ]
  },
  {
   "cell_type": "code",
   "execution_count": 11,
   "metadata": {
    "colab": {
     "base_uri": "https://localhost:8080/",
     "height": 571
    },
    "executionInfo": {
     "elapsed": 583,
     "status": "ok",
     "timestamp": 1621868208543,
     "user": {
      "displayName": "王家乐",
      "photoUrl": "",
      "userId": "16213060543179077054"
     },
     "user_tz": -480
    },
    "id": "BZ5x2Zol4Jpg",
    "outputId": "0a53236e-9b65-4960-896e-6a77c5485b11"
   },
   "outputs": [
    {
     "name": "stdout",
     "output_type": "stream",
     "text": [
      "Feature: 0, Score: 0.06889\n",
      "Feature: 1, Score: 0.03042\n",
      "Feature: 2, Score: 0.02664\n",
      "Feature: 3, Score: 0.46594\n",
      "Feature: 4, Score: 0.01806\n",
      "Feature: 5, Score: 0.02155\n",
      "Feature: 6, Score: 0.01471\n",
      "Feature: 7, Score: 0.00908\n",
      "Feature: 8, Score: 0.04893\n",
      "Feature: 9, Score: 0.02835\n",
      "Feature: 10, Score: 0.04852\n",
      "Feature: 11, Score: 0.02207\n",
      "Feature: 12, Score: 0.05366\n",
      "Feature: 13, Score: 0.02172\n",
      "Feature: 14, Score: 0.04085\n",
      "Feature: 15, Score: 0.02409\n",
      "Feature: 16, Score: 0.04650\n",
      "Feature: 17, Score: 0.01002\n"
     ]
    },
    {
     "data": {
      "image/png": "[encoded data removed]",
      "text/plain": [
       "<Figure size 432x288 with 1 Axes>"
      ]
     },
     "metadata": {
      "needs_background": "light",
      "tags": []
     },
     "output_type": "display_data"
    }
   ],
   "source": [
    "# random forest for feature importance on a regression problem\n",
    "from sklearn.datasets import make_regression\n",
    "from sklearn.ensemble import RandomForestRegressor\n",
    "from matplotlib import pyplot\n",
    "# define the model\n",
    "model = RandomForestRegressor()\n",
    "# fit the model\n",
    "model.fit(X_in, y_out)\n",
    "# get importance\n",
    "importance = model.feature_importances_\n",
    "# summarize feature importance\n",
    "for i,v in enumerate(importance):\n",
    "\tprint('Feature: %0d, Score: %.5f' % (i,v))\n",
    "# plot feature importance\n",
    "pyplot.bar([x for x in range(len(importance))], importance, color='royalblue',width=0.7)\n",
    "pyplot.show()"
   ]
  },
  {
   "cell_type": "code",
   "execution_count": null,
   "metadata": {
    "id": "oVdFxfbc4Nsk"
   },
   "outputs": [],
   "source": []
  }
 ],
 "metadata": {
  "colab": {
   "authorship_tag": "ABX9TyNCCainnMRHOfx8LJ4aXx7Y",
   "name": "Featrue Importance-人口流动.ipynb",
   "provenance": []
  },
  "kernelspec": {
   "display_name": "Python 3",
   "language": "python",
   "name": "python3"
  },
  "language_info": {
   "codemirror_mode": {
    "name": "ipython",
    "version": 3
   },
   "file_extension": ".py",
   "mimetype": "text/x-python",
   "name": "python",
   "nbconvert_exporter": "python",
   "pygments_lexer": "ipython3",
   "version": "3.8.5"
  }
 },
 "nbformat": 4,
 "nbformat_minor": 1
}
