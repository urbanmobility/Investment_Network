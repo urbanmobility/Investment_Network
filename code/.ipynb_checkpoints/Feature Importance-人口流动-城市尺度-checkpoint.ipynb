{
 "cells": [
  {
   "cell_type": "code",
   "execution_count": 1,
   "metadata": {
    "executionInfo": {
     "elapsed": 1023,
     "status": "ok",
     "timestamp": 1621907894124,
     "user": {
      "displayName": "王家乐",
      "photoUrl": "",
      "userId": "16213060543179077054"
     },
     "user_tz": -480
    },
    "id": "AgFb9eJJPJ_4"
   },
   "outputs": [],
   "source": [
    "import sklearn\n",
    "import numpy as np"
   ]
  },
  {
   "cell_type": "code",
   "execution_count": 2,
   "metadata": {
    "colab": {
     "base_uri": "https://localhost:8080/"
    },
    "executionInfo": {
     "elapsed": 262,
     "status": "ok",
     "timestamp": 1621907922184,
     "user": {
      "displayName": "王家乐",
      "photoUrl": "",
      "userId": "16213060543179077054"
     },
     "user_tz": -480
    },
    "id": "3Wmh8DedPlUK",
    "outputId": "ab06528f-814d-4f30-bf02-3f41190f2958"
   },
   "outputs": [
    {
     "name": "stdout",
     "output_type": "stream",
     "text": [
      "(29,)\n"
     ]
    }
   ],
   "source": [
    "y_in = np.array([0.0233 \n",
    ",0.0103 \n",
    ",0.0240 \n",
    ",0.0098 \n",
    ",0.0056 \n",
    ",0.0082 \n",
    ",0.0027 \n",
    ",0.0084 \n",
    ",0.0058 \n",
    ",0.0057 \n",
    ",0.0136 \n",
    ",0.0168 \n",
    ",0.0093 \n",
    ",0.0048 \n",
    ",0.0067 \n",
    ",0.0108 \n",
    ",0.0190 \n",
    ",0.0123 \n",
    ",0.0132 \n",
    ",0.0303 \n",
    ",0.0082 \n",
    ",0.0046 \n",
    ",0.0196 \n",
    ",0.0095 \n",
    ",0.0105 \n",
    ",0.0168 \n",
    ",0.0059 \n",
    ",0.0035 \n",
    ",0.0037])\n",
    "print(y_in.shape)"
   ]
  },
  {
   "cell_type": "code",
   "execution_count": 3,
   "metadata": {
    "colab": {
     "base_uri": "https://localhost:8080/"
    },
    "executionInfo": {
     "elapsed": 24,
     "status": "ok",
     "timestamp": 1621907964331,
     "user": {
      "displayName": "王家乐",
      "photoUrl": "",
      "userId": "16213060543179077054"
     },
     "user_tz": -480
    },
    "id": "aFz7x3kRPtlb",
    "outputId": "17f914f3-ca44-4b5c-84bd-67eb3202a423"
   },
   "outputs": [
    {
     "name": "stdout",
     "output_type": "stream",
     "text": [
      "(28,)\n"
     ]
    }
   ],
   "source": [
    "y_out = np.array([0.0135 \n",
    ",0.0091 \n",
    ",0.0180 \n",
    ",0.0114 \n",
    ",0.0062 \n",
    ",0.0068 \n",
    ",0.0065 \n",
    ",0.0045 \n",
    ",0.0040 \n",
    ",0.0094 \n",
    ",0.0131 \n",
    ",0.0086 \n",
    ",0.0039 \n",
    ",0.0045 \n",
    ",0.0078 \n",
    ",0.0137 \n",
    ",0.0098 \n",
    ",0.0114 \n",
    ",0.0230 \n",
    ",0.0073 \n",
    ",0.0041 \n",
    ",0.0192 \n",
    ",0.0073 \n",
    ",0.0080 \n",
    ",0.0154 \n",
    ",0.0036 \n",
    ",0.0033 \n",
    ",0.0032]) \n",
    "print(y_out.shape)"
   ]
  },
  {
   "cell_type": "markdown",
   "metadata": {
    "id": "O1SI5zLoQLMn"
   },
   "source": [
    "人口迁入与主动投资"
   ]
  },
  {
   "cell_type": "code",
   "execution_count": 4,
   "metadata": {
    "executionInfo": {
     "elapsed": 256,
     "status": "ok",
     "timestamp": 1621908106395,
     "user": {
      "displayName": "王家乐",
      "photoUrl": "",
      "userId": "16213060543179077054"
     },
     "user_tz": -480
    },
    "id": "2wsL6EcrP3xX"
   },
   "outputs": [],
   "source": [
    "X1 = np.array([39063,  3637, 39132,  6433,  2049,  1652,   793,  4358,  1245,\n",
    "        2509,  7309, 14176,  3406,  3180,  2360,  5797,  5715,  4509,\n",
    "        4881, 13031,  2956,  1885,  9930,  2545,  3643,  4357,  1788,\n",
    "         276,   911])"
   ]
  },
  {
   "cell_type": "code",
   "execution_count": 5,
   "metadata": {
    "colab": {
     "base_uri": "https://localhost:8080/",
     "height": 464
    },
    "executionInfo": {
     "elapsed": 545,
     "status": "error",
     "timestamp": 1621908128467,
     "user": {
      "displayName": "王家乐",
      "photoUrl": "",
      "userId": "16213060543179077054"
     },
     "user_tz": -480
    },
    "id": "OSP_2IjKQapW",
    "outputId": "2bd1a72a-9429-4b4d-e37c-d56eda2448e1"
   },
   "outputs": [
    {
     "ename": "ValueError",
     "evalue": "ignored",
     "output_type": "error",
     "traceback": [
      "\u001b[0;31m---------------------------------------------------------------------------\u001b[0m",
      "\u001b[0;31mValueError\u001b[0m                                Traceback (most recent call last)",
      "\u001b[0;32m<ipython-input-5-92b6fdff0689>\u001b[0m in \u001b[0;36m<module>\u001b[0;34m()\u001b[0m\n\u001b[1;32m      6\u001b[0m \u001b[0mmodel\u001b[0m \u001b[0;34m=\u001b[0m \u001b[0mRandomForestRegressor\u001b[0m\u001b[0;34m(\u001b[0m\u001b[0;34m)\u001b[0m\u001b[0;34m\u001b[0m\u001b[0;34m\u001b[0m\u001b[0m\n\u001b[1;32m      7\u001b[0m \u001b[0;31m# fit the model\u001b[0m\u001b[0;34m\u001b[0m\u001b[0;34m\u001b[0m\u001b[0;34m\u001b[0m\u001b[0m\n\u001b[0;32m----> 8\u001b[0;31m \u001b[0mmodel\u001b[0m\u001b[0;34m.\u001b[0m\u001b[0mfit\u001b[0m\u001b[0;34m(\u001b[0m\u001b[0mX1\u001b[0m\u001b[0;34m,\u001b[0m \u001b[0my_in\u001b[0m\u001b[0;34m)\u001b[0m\u001b[0;34m\u001b[0m\u001b[0;34m\u001b[0m\u001b[0m\n\u001b[0m\u001b[1;32m      9\u001b[0m \u001b[0;31m# get importance\u001b[0m\u001b[0;34m\u001b[0m\u001b[0;34m\u001b[0m\u001b[0;34m\u001b[0m\u001b[0m\n\u001b[1;32m     10\u001b[0m \u001b[0mimportance\u001b[0m \u001b[0;34m=\u001b[0m \u001b[0mmodel\u001b[0m\u001b[0;34m.\u001b[0m\u001b[0mfeature_importances_\u001b[0m\u001b[0;34m\u001b[0m\u001b[0;34m\u001b[0m\u001b[0m\n",
      "\u001b[0;32m/usr/local/lib/python3.7/dist-packages/sklearn/ensemble/_forest.py\u001b[0m in \u001b[0;36mfit\u001b[0;34m(self, X, y, sample_weight)\u001b[0m\n\u001b[1;32m    293\u001b[0m         \"\"\"\n\u001b[1;32m    294\u001b[0m         \u001b[0;31m# Validate or convert input data\u001b[0m\u001b[0;34m\u001b[0m\u001b[0;34m\u001b[0m\u001b[0;34m\u001b[0m\u001b[0m\n\u001b[0;32m--> 295\u001b[0;31m         \u001b[0mX\u001b[0m \u001b[0;34m=\u001b[0m \u001b[0mcheck_array\u001b[0m\u001b[0;34m(\u001b[0m\u001b[0mX\u001b[0m\u001b[0;34m,\u001b[0m \u001b[0maccept_sparse\u001b[0m\u001b[0;34m=\u001b[0m\u001b[0;34m\"csc\"\u001b[0m\u001b[0;34m,\u001b[0m \u001b[0mdtype\u001b[0m\u001b[0;34m=\u001b[0m\u001b[0mDTYPE\u001b[0m\u001b[0;34m)\u001b[0m\u001b[0;34m\u001b[0m\u001b[0;34m\u001b[0m\u001b[0m\n\u001b[0m\u001b[1;32m    296\u001b[0m         \u001b[0my\u001b[0m \u001b[0;34m=\u001b[0m \u001b[0mcheck_array\u001b[0m\u001b[0;34m(\u001b[0m\u001b[0my\u001b[0m\u001b[0;34m,\u001b[0m \u001b[0maccept_sparse\u001b[0m\u001b[0;34m=\u001b[0m\u001b[0;34m'csc'\u001b[0m\u001b[0;34m,\u001b[0m \u001b[0mensure_2d\u001b[0m\u001b[0;34m=\u001b[0m\u001b[0;32mFalse\u001b[0m\u001b[0;34m,\u001b[0m \u001b[0mdtype\u001b[0m\u001b[0;34m=\u001b[0m\u001b[0;32mNone\u001b[0m\u001b[0;34m)\u001b[0m\u001b[0;34m\u001b[0m\u001b[0;34m\u001b[0m\u001b[0m\n\u001b[1;32m    297\u001b[0m         \u001b[0;32mif\u001b[0m \u001b[0msample_weight\u001b[0m \u001b[0;32mis\u001b[0m \u001b[0;32mnot\u001b[0m \u001b[0;32mNone\u001b[0m\u001b[0;34m:\u001b[0m\u001b[0;34m\u001b[0m\u001b[0;34m\u001b[0m\u001b[0m\n",
      "\u001b[0;32m/usr/local/lib/python3.7/dist-packages/sklearn/utils/validation.py\u001b[0m in \u001b[0;36mcheck_array\u001b[0;34m(array, accept_sparse, accept_large_sparse, dtype, order, copy, force_all_finite, ensure_2d, allow_nd, ensure_min_samples, ensure_min_features, warn_on_dtype, estimator)\u001b[0m\n\u001b[1;32m    554\u001b[0m                     \u001b[0;34m\"Reshape your data either using array.reshape(-1, 1) if \"\u001b[0m\u001b[0;34m\u001b[0m\u001b[0;34m\u001b[0m\u001b[0m\n\u001b[1;32m    555\u001b[0m                     \u001b[0;34m\"your data has a single feature or array.reshape(1, -1) \"\u001b[0m\u001b[0;34m\u001b[0m\u001b[0;34m\u001b[0m\u001b[0m\n\u001b[0;32m--> 556\u001b[0;31m                     \"if it contains a single sample.\".format(array))\n\u001b[0m\u001b[1;32m    557\u001b[0m \u001b[0;34m\u001b[0m\u001b[0m\n\u001b[1;32m    558\u001b[0m         \u001b[0;31m# in the future np.flexible dtypes will be handled like object dtypes\u001b[0m\u001b[0;34m\u001b[0m\u001b[0;34m\u001b[0m\u001b[0;34m\u001b[0m\u001b[0m\n",
      "\u001b[0;31mValueError\u001b[0m: Expected 2D array, got 1D array instead:\narray=[39063.  3637. 39132.  6433.  2049.  1652.   793.  4358.  1245.  2509.\n  7309. 14176.  3406.  3180.  2360.  5797.  5715.  4509.  4881. 13031.\n  2956.  1885.  9930.  2545.  3643.  4357.  1788.   276.   911.].\nReshape your data either using array.reshape(-1, 1) if your data has a single feature or array.reshape(1, -1) if it contains a single sample."
     ]
    }
   ],
   "source": [
    "# random forest for feature importance on a regression problem\n",
    "from sklearn.datasets import make_regression\n",
    "from sklearn.ensemble import RandomForestRegressor\n",
    "from matplotlib import pyplot\n",
    "# define the model\n",
    "model = RandomForestRegressor()\n",
    "# fit the model\n",
    "model.fit(X1, y_in)\n",
    "# get importance\n",
    "importance = model.feature_importances_\n",
    "# summarize feature importance\n",
    "for i,v in enumerate(importance):\n",
    "\tprint('Feature: %0d, Score: %.5f' % (i,v))\n",
    "# plot feature importance\n",
    "pyplot.bar([x for x in range(len(importance))], importance, color='royalblue',width=0.7)\n",
    "pyplot.show()"
   ]
  },
  {
   "cell_type": "code",
   "execution_count": null,
   "metadata": {
    "id": "1HrcnH-CQf8J"
   },
   "outputs": [],
   "source": []
  }
 ],
 "metadata": {
  "colab": {
   "authorship_tag": "ABX9TyN9FdYHxwRTYJLBH5pv13/H",
   "name": "Feature Importance-人口流动-城市尺度.ipynb",
   "provenance": []
  },
  "kernelspec": {
   "display_name": "Python 3",
   "language": "python",
   "name": "python3"
  },
  "language_info": {
   "codemirror_mode": {
    "name": "ipython",
    "version": 3
   },
   "file_extension": ".py",
   "mimetype": "text/x-python",
   "name": "python",
   "nbconvert_exporter": "python",
   "pygments_lexer": "ipython3",
   "version": "3.8.5"
  }
 },
 "nbformat": 4,
 "nbformat_minor": 1
}
